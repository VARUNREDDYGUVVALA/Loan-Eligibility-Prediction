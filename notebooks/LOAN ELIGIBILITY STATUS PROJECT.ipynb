{
 "cells": [
  {
   "cell_type": "markdown",
   "id": "31564ca6-ac85-4afc-88bc-e82e3ded7117",
   "metadata": {},
   "source": [
    "# Loan Eligibility Status"
   ]
  },
  {
   "cell_type": "raw",
   "id": "71029065-a63b-416b-b80e-94d25270a34d",
   "metadata": {},
   "source": [
    "Dream Housing Finance deals with all types of home loans. They have a presence across all urban, semi-urban, and rural areas. The customer first applies for a home loan, and then the company validates the customer's eligibility for that loan.\n",
    "This organization wants to automate the eligibility criteria for the loan amount in real time based on customer details provided while filling out an online application form. These include gender, marital status, education, number of dependants, income, loan amount, credit history, etc. In order to automate this process, they have provided a dataset to identify segments of customers that are eligible for the loan amount so that they can specifically target such customers."
   ]
  },
  {
   "cell_type": "code",
   "execution_count": 1,
   "id": "ce3674aa-4883-4b55-b00a-3194115d370d",
   "metadata": {},
   "outputs": [],
   "source": [
    "import numpy as np\n",
    "import pandas as pd\n",
    "import matplotlib.pyplot as plt\n",
    "import seaborn as sns\n",
    "import warnings\n",
    "warnings.filterwarnings('ignore')"
   ]
  },
  {
   "cell_type": "code",
   "execution_count": 3,
   "id": "ffc1fc58-68ee-4888-9790-269dd2b74b88",
   "metadata": {},
   "outputs": [
    {
     "data": {
      "text/html": [
       "<div>\n",
       "<style scoped>\n",
       "    .dataframe tbody tr th:only-of-type {\n",
       "        vertical-align: middle;\n",
       "    }\n",
       "\n",
       "    .dataframe tbody tr th {\n",
       "        vertical-align: top;\n",
       "    }\n",
       "\n",
       "    .dataframe thead th {\n",
       "        text-align: right;\n",
       "    }\n",
       "</style>\n",
       "<table border=\"1\" class=\"dataframe\">\n",
       "  <thead>\n",
       "    <tr style=\"text-align: right;\">\n",
       "      <th></th>\n",
       "      <th>Loan_ID</th>\n",
       "      <th>Gender</th>\n",
       "      <th>Married</th>\n",
       "      <th>Dependents</th>\n",
       "      <th>Education</th>\n",
       "      <th>Self_Employed</th>\n",
       "      <th>ApplicantIncome</th>\n",
       "      <th>CoapplicantIncome</th>\n",
       "      <th>LoanAmount</th>\n",
       "      <th>Loan_Amount_Term</th>\n",
       "      <th>Credit_History</th>\n",
       "      <th>Property_Area</th>\n",
       "      <th>Loan_Status</th>\n",
       "    </tr>\n",
       "  </thead>\n",
       "  <tbody>\n",
       "    <tr>\n",
       "      <th>996</th>\n",
       "      <td>LP005425</td>\n",
       "      <td>Male</td>\n",
       "      <td>Yes</td>\n",
       "      <td>2</td>\n",
       "      <td>Graduate</td>\n",
       "      <td>No</td>\n",
       "      <td>7067</td>\n",
       "      <td>4685.0</td>\n",
       "      <td>104.0</td>\n",
       "      <td>360.0</td>\n",
       "      <td>1.0</td>\n",
       "      <td>Rural</td>\n",
       "      <td>N</td>\n",
       "    </tr>\n",
       "    <tr>\n",
       "      <th>997</th>\n",
       "      <td>LP005429</td>\n",
       "      <td>Male</td>\n",
       "      <td>Yes</td>\n",
       "      <td>3+</td>\n",
       "      <td>Graduate</td>\n",
       "      <td>No</td>\n",
       "      <td>6665</td>\n",
       "      <td>4502.0</td>\n",
       "      <td>138.0</td>\n",
       "      <td>180.0</td>\n",
       "      <td>1.0</td>\n",
       "      <td>Urban</td>\n",
       "      <td>Y</td>\n",
       "    </tr>\n",
       "    <tr>\n",
       "      <th>998</th>\n",
       "      <td>LP005430</td>\n",
       "      <td>Male</td>\n",
       "      <td>Yes</td>\n",
       "      <td>0</td>\n",
       "      <td>Graduate</td>\n",
       "      <td>No</td>\n",
       "      <td>6857</td>\n",
       "      <td>0.0</td>\n",
       "      <td>41.0</td>\n",
       "      <td>360.0</td>\n",
       "      <td>1.0</td>\n",
       "      <td>Rural</td>\n",
       "      <td>Y</td>\n",
       "    </tr>\n",
       "    <tr>\n",
       "      <th>999</th>\n",
       "      <td>LP005439</td>\n",
       "      <td>Male</td>\n",
       "      <td>Yes</td>\n",
       "      <td>1</td>\n",
       "      <td>Graduate</td>\n",
       "      <td>NaN</td>\n",
       "      <td>6577</td>\n",
       "      <td>0.0</td>\n",
       "      <td>160.0</td>\n",
       "      <td>NaN</td>\n",
       "      <td>0.0</td>\n",
       "      <td>Urban</td>\n",
       "      <td>Y</td>\n",
       "    </tr>\n",
       "    <tr>\n",
       "      <th>1000</th>\n",
       "      <td>LP005500</td>\n",
       "      <td>Female</td>\n",
       "      <td>Yes</td>\n",
       "      <td>2</td>\n",
       "      <td>Not Graduate</td>\n",
       "      <td>Yes</td>\n",
       "      <td>7494</td>\n",
       "      <td>6082.0</td>\n",
       "      <td>189.0</td>\n",
       "      <td>360.0</td>\n",
       "      <td>NaN</td>\n",
       "      <td>Urban</td>\n",
       "      <td>Y</td>\n",
       "    </tr>\n",
       "  </tbody>\n",
       "</table>\n",
       "</div>"
      ],
      "text/plain": [
       "       Loan_ID  Gender Married Dependents     Education Self_Employed  \\\n",
       "996   LP005425    Male     Yes          2      Graduate            No   \n",
       "997   LP005429    Male     Yes         3+      Graduate            No   \n",
       "998   LP005430    Male     Yes          0      Graduate            No   \n",
       "999   LP005439    Male     Yes          1      Graduate           NaN   \n",
       "1000  LP005500  Female     Yes          2  Not Graduate           Yes   \n",
       "\n",
       "      ApplicantIncome  CoapplicantIncome  LoanAmount  Loan_Amount_Term  \\\n",
       "996              7067             4685.0       104.0             360.0   \n",
       "997              6665             4502.0       138.0             180.0   \n",
       "998              6857                0.0        41.0             360.0   \n",
       "999              6577                0.0       160.0               NaN   \n",
       "1000             7494             6082.0       189.0             360.0   \n",
       "\n",
       "      Credit_History Property_Area Loan_Status  \n",
       "996              1.0         Rural           N  \n",
       "997              1.0         Urban           Y  \n",
       "998              1.0         Rural           Y  \n",
       "999              0.0         Urban           Y  \n",
       "1000             NaN         Urban           Y  "
      ]
     },
     "execution_count": 3,
     "metadata": {},
     "output_type": "execute_result"
    }
   ],
   "source": [
    "data=pd.read_csv(\"loan eligibility status DATA SET.csv\")\n",
    "data.tail()"
   ]
  },
  {
   "cell_type": "code",
   "execution_count": 5,
   "id": "044605d7-79e6-4ec6-b44d-1ca023fe7b3a",
   "metadata": {},
   "outputs": [
    {
     "data": {
      "text/html": [
       "<div>\n",
       "<style scoped>\n",
       "    .dataframe tbody tr th:only-of-type {\n",
       "        vertical-align: middle;\n",
       "    }\n",
       "\n",
       "    .dataframe tbody tr th {\n",
       "        vertical-align: top;\n",
       "    }\n",
       "\n",
       "    .dataframe thead th {\n",
       "        text-align: right;\n",
       "    }\n",
       "</style>\n",
       "<table border=\"1\" class=\"dataframe\">\n",
       "  <thead>\n",
       "    <tr style=\"text-align: right;\">\n",
       "      <th></th>\n",
       "      <th>Loan_ID</th>\n",
       "      <th>Gender</th>\n",
       "      <th>Married</th>\n",
       "      <th>Dependents</th>\n",
       "      <th>Education</th>\n",
       "      <th>Self_Employed</th>\n",
       "      <th>ApplicantIncome</th>\n",
       "      <th>CoapplicantIncome</th>\n",
       "      <th>LoanAmount</th>\n",
       "      <th>Loan_Amount_Term</th>\n",
       "      <th>Credit_History</th>\n",
       "      <th>Property_Area</th>\n",
       "      <th>Loan_Status</th>\n",
       "    </tr>\n",
       "  </thead>\n",
       "  <tbody>\n",
       "    <tr>\n",
       "      <th>0</th>\n",
       "      <td>LP001002</td>\n",
       "      <td>Male</td>\n",
       "      <td>No</td>\n",
       "      <td>0</td>\n",
       "      <td>Graduate</td>\n",
       "      <td>No</td>\n",
       "      <td>5849</td>\n",
       "      <td>0.0</td>\n",
       "      <td>NaN</td>\n",
       "      <td>360.0</td>\n",
       "      <td>1.0</td>\n",
       "      <td>Urban</td>\n",
       "      <td>Y</td>\n",
       "    </tr>\n",
       "    <tr>\n",
       "      <th>1</th>\n",
       "      <td>LP001003</td>\n",
       "      <td>Male</td>\n",
       "      <td>Yes</td>\n",
       "      <td>1</td>\n",
       "      <td>Graduate</td>\n",
       "      <td>No</td>\n",
       "      <td>4583</td>\n",
       "      <td>1508.0</td>\n",
       "      <td>128.0</td>\n",
       "      <td>360.0</td>\n",
       "      <td>1.0</td>\n",
       "      <td>Rural</td>\n",
       "      <td>N</td>\n",
       "    </tr>\n",
       "    <tr>\n",
       "      <th>2</th>\n",
       "      <td>LP001005</td>\n",
       "      <td>Male</td>\n",
       "      <td>Yes</td>\n",
       "      <td>0</td>\n",
       "      <td>Graduate</td>\n",
       "      <td>Yes</td>\n",
       "      <td>3000</td>\n",
       "      <td>0.0</td>\n",
       "      <td>66.0</td>\n",
       "      <td>360.0</td>\n",
       "      <td>1.0</td>\n",
       "      <td>Urban</td>\n",
       "      <td>Y</td>\n",
       "    </tr>\n",
       "    <tr>\n",
       "      <th>3</th>\n",
       "      <td>LP001006</td>\n",
       "      <td>Male</td>\n",
       "      <td>Yes</td>\n",
       "      <td>0</td>\n",
       "      <td>Not Graduate</td>\n",
       "      <td>No</td>\n",
       "      <td>2583</td>\n",
       "      <td>2358.0</td>\n",
       "      <td>120.0</td>\n",
       "      <td>360.0</td>\n",
       "      <td>1.0</td>\n",
       "      <td>Urban</td>\n",
       "      <td>Y</td>\n",
       "    </tr>\n",
       "    <tr>\n",
       "      <th>4</th>\n",
       "      <td>LP001008</td>\n",
       "      <td>Male</td>\n",
       "      <td>No</td>\n",
       "      <td>0</td>\n",
       "      <td>Graduate</td>\n",
       "      <td>No</td>\n",
       "      <td>6000</td>\n",
       "      <td>0.0</td>\n",
       "      <td>141.0</td>\n",
       "      <td>360.0</td>\n",
       "      <td>1.0</td>\n",
       "      <td>Urban</td>\n",
       "      <td>Y</td>\n",
       "    </tr>\n",
       "  </tbody>\n",
       "</table>\n",
       "</div>"
      ],
      "text/plain": [
       "    Loan_ID Gender Married Dependents     Education Self_Employed  \\\n",
       "0  LP001002   Male      No          0      Graduate            No   \n",
       "1  LP001003   Male     Yes          1      Graduate            No   \n",
       "2  LP001005   Male     Yes          0      Graduate           Yes   \n",
       "3  LP001006   Male     Yes          0  Not Graduate            No   \n",
       "4  LP001008   Male      No          0      Graduate            No   \n",
       "\n",
       "   ApplicantIncome  CoapplicantIncome  LoanAmount  Loan_Amount_Term  \\\n",
       "0             5849                0.0         NaN             360.0   \n",
       "1             4583             1508.0       128.0             360.0   \n",
       "2             3000                0.0        66.0             360.0   \n",
       "3             2583             2358.0       120.0             360.0   \n",
       "4             6000                0.0       141.0             360.0   \n",
       "\n",
       "   Credit_History Property_Area Loan_Status  \n",
       "0             1.0         Urban           Y  \n",
       "1             1.0         Rural           N  \n",
       "2             1.0         Urban           Y  \n",
       "3             1.0         Urban           Y  \n",
       "4             1.0         Urban           Y  "
      ]
     },
     "execution_count": 5,
     "metadata": {},
     "output_type": "execute_result"
    }
   ],
   "source": [
    "data.head()"
   ]
  },
  {
   "cell_type": "code",
   "execution_count": 7,
   "id": "66d10963-eadb-4dd8-a86c-bc2ebfb6d43a",
   "metadata": {},
   "outputs": [
    {
     "name": "stdout",
     "output_type": "stream",
     "text": [
      "Index(['Loan_ID', 'Gender', 'Married', 'Dependents', 'Education',\n",
      "       'Self_Employed', 'ApplicantIncome', 'CoapplicantIncome', 'LoanAmount',\n",
      "       'Loan_Amount_Term', 'Credit_History', 'Property_Area', 'Loan_Status'],\n",
      "      dtype='object')\n"
     ]
    }
   ],
   "source": [
    "print(data.columns)\n"
   ]
  },
  {
   "cell_type": "markdown",
   "id": "15f54da4-edec-4f07-9e9f-ea237ec2cae1",
   "metadata": {},
   "source": [
    "# Data Understanding"
   ]
  },
  {
   "cell_type": "code",
   "execution_count": 10,
   "id": "bd5b23fe-76cc-48fc-95d3-2fcd284fbe41",
   "metadata": {},
   "outputs": [
    {
     "data": {
      "text/plain": [
       "0       LP001002\n",
       "1       LP001003\n",
       "2       LP001005\n",
       "3       LP001006\n",
       "4       LP001008\n",
       "          ...   \n",
       "996     LP005425\n",
       "997     LP005429\n",
       "998     LP005430\n",
       "999     LP005439\n",
       "1000    LP005500\n",
       "Name: Loan_ID, Length: 1001, dtype: object"
      ]
     },
     "execution_count": 10,
     "metadata": {},
     "output_type": "execute_result"
    }
   ],
   "source": [
    "data[\"Loan_ID\"]"
   ]
  },
  {
   "cell_type": "code",
   "execution_count": 12,
   "id": "d9b41daf-76b5-4361-800d-143a0b8427a8",
   "metadata": {},
   "outputs": [
    {
     "data": {
      "text/plain": [
       "1000"
      ]
     },
     "execution_count": 12,
     "metadata": {},
     "output_type": "execute_result"
    }
   ],
   "source": [
    "data[\"Loan_ID\"].nunique()"
   ]
  },
  {
   "cell_type": "code",
   "execution_count": 14,
   "id": "d5276a1b-9993-459f-9e81-40a9fc39bec6",
   "metadata": {},
   "outputs": [],
   "source": [
    "# Check before dropping\n",
    "if 'Loan_ID' in data.columns:\n",
    "    data = data.drop(columns=['Loan_ID'])\n",
    "else:\n",
    "    print(\"Column 'Loan_ID' not found.\")\n"
   ]
  },
  {
   "cell_type": "code",
   "execution_count": 16,
   "id": "2b6ee55a-85de-47b5-81e3-b1b921c88af7",
   "metadata": {},
   "outputs": [
    {
     "data": {
      "text/plain": [
       "array(['Male', 'Female', nan], dtype=object)"
      ]
     },
     "execution_count": 16,
     "metadata": {},
     "output_type": "execute_result"
    }
   ],
   "source": [
    "data[\"Gender\"].unique()"
   ]
  },
  {
   "cell_type": "code",
   "execution_count": 18,
   "id": "845aef29-5950-4339-804a-2f33fec7baf7",
   "metadata": {},
   "outputs": [
    {
     "data": {
      "text/plain": [
       "Gender\n",
       "Male      783\n",
       "Female    204\n",
       "Name: count, dtype: int64"
      ]
     },
     "execution_count": 18,
     "metadata": {},
     "output_type": "execute_result"
    }
   ],
   "source": [
    "data[\"Gender\"].value_counts()"
   ]
  },
  {
   "cell_type": "code",
   "execution_count": 20,
   "id": "ab8f33c4-a349-4bd8-b159-fe4c09d12296",
   "metadata": {},
   "outputs": [
    {
     "data": {
      "text/plain": [
       "array(['No', 'Yes', nan], dtype=object)"
      ]
     },
     "execution_count": 20,
     "metadata": {},
     "output_type": "execute_result"
    }
   ],
   "source": [
    "data[\"Married\"].unique()"
   ]
  },
  {
   "cell_type": "code",
   "execution_count": 22,
   "id": "1c7d0458-e29b-4146-a78e-5feef234861d",
   "metadata": {},
   "outputs": [
    {
     "data": {
      "text/plain": [
       "Married\n",
       "Yes    623\n",
       "No     375\n",
       "Name: count, dtype: int64"
      ]
     },
     "execution_count": 22,
     "metadata": {},
     "output_type": "execute_result"
    }
   ],
   "source": [
    "data[\"Married\"].value_counts()"
   ]
  },
  {
   "cell_type": "code",
   "execution_count": 24,
   "id": "97984a15-3f34-4437-9277-d0dbb34c4ca1",
   "metadata": {},
   "outputs": [
    {
     "data": {
      "text/plain": [
       "array(['0', '1', '2', '3+', nan], dtype=object)"
      ]
     },
     "execution_count": 24,
     "metadata": {},
     "output_type": "execute_result"
    }
   ],
   "source": [
    "data[\"Dependents\"].unique()"
   ]
  },
  {
   "cell_type": "code",
   "execution_count": 26,
   "id": "cdd03f88-1781-458e-b7cf-92effa0e1497",
   "metadata": {},
   "outputs": [
    {
     "data": {
      "text/plain": [
       "Dependents\n",
       "0     540\n",
       "1     198\n",
       "2     166\n",
       "3+     82\n",
       "Name: count, dtype: int64"
      ]
     },
     "execution_count": 26,
     "metadata": {},
     "output_type": "execute_result"
    }
   ],
   "source": [
    "data[\"Dependents\"].value_counts()"
   ]
  },
  {
   "cell_type": "code",
   "execution_count": 28,
   "id": "e35cce14-0d25-4cd9-82a6-e0a255afba6c",
   "metadata": {},
   "outputs": [
    {
     "data": {
      "text/plain": [
       "array(['Graduate', 'Not Graduate'], dtype=object)"
      ]
     },
     "execution_count": 28,
     "metadata": {},
     "output_type": "execute_result"
    }
   ],
   "source": [
    "data[\"Education\"].unique()"
   ]
  },
  {
   "cell_type": "code",
   "execution_count": 30,
   "id": "82466ecc-3636-4d62-b818-699fc55ada50",
   "metadata": {},
   "outputs": [
    {
     "data": {
      "text/plain": [
       "Education\n",
       "Graduate        784\n",
       "Not Graduate    217\n",
       "Name: count, dtype: int64"
      ]
     },
     "execution_count": 30,
     "metadata": {},
     "output_type": "execute_result"
    }
   ],
   "source": [
    "data[\"Education\"].value_counts()"
   ]
  },
  {
   "cell_type": "code",
   "execution_count": 32,
   "id": "980a8e03-6253-4fde-97d7-28e918c849d7",
   "metadata": {},
   "outputs": [
    {
     "data": {
      "text/plain": [
       "array(['No', 'Yes', nan], dtype=object)"
      ]
     },
     "execution_count": 32,
     "metadata": {},
     "output_type": "execute_result"
    }
   ],
   "source": [
    "data[\"Self_Employed\"].unique()"
   ]
  },
  {
   "cell_type": "code",
   "execution_count": 34,
   "id": "da2d13fe-9669-48f9-afcb-4cf8d29f6f20",
   "metadata": {},
   "outputs": [
    {
     "data": {
      "text/plain": [
       "Self_Employed\n",
       "No     805\n",
       "Yes    113\n",
       "Name: count, dtype: int64"
      ]
     },
     "execution_count": 34,
     "metadata": {},
     "output_type": "execute_result"
    }
   ],
   "source": [
    "data[\"Self_Employed\"].value_counts()"
   ]
  },
  {
   "cell_type": "code",
   "execution_count": 36,
   "id": "44e8450a-defa-49f8-8699-042f5d9ceef1",
   "metadata": {},
   "outputs": [
    {
     "data": {
      "text/plain": [
       "866"
      ]
     },
     "execution_count": 36,
     "metadata": {},
     "output_type": "execute_result"
    }
   ],
   "source": [
    "data[\"ApplicantIncome\"].nunique()"
   ]
  },
  {
   "cell_type": "code",
   "execution_count": 38,
   "id": "3c7f0dfd-1d51-4ab5-97d1-763ece6417ac",
   "metadata": {},
   "outputs": [
    {
     "data": {
      "text/plain": [
       "array([ 5849,  4583,  3000,  2583,  6000,  5417,  2333,  3036,  4006,\n",
       "       12841,  3200,  2500,  3073,  1853,  1299,  4950,  3596,  3510,\n",
       "        4887,  2600,  7660,  5955,  3365,  3717,  9560,  2799,  4226,\n",
       "        1442,  3750,  4166,  3167,  4692,  3500, 12500,  2275,  1828,\n",
       "        3667,  3748,  3600,  1800,  2400,  3941,  4695,  3410,  5649,\n",
       "        5821,  2645,  4000,  1928,  3086,  4230,  4616, 11500,  2708,\n",
       "        2132,  3366,  8080,  3357,  3029,  2609,  4945,  5726, 10750,\n",
       "        7100,  4300,  3208,  1875,  4755,  5266,  1000,  3333,  3846,\n",
       "        2395,  1378,  3988,  2366,  8566,  5695,  2958,  6250,  3273,\n",
       "        4133,  3620,  6782,  2484,  1977,  4188,  1759,  4288,  4843,\n",
       "       13650,  4652,  3816,  3052, 11417,  7333,  3800,  2071,  5316,\n",
       "        2929,  3572,  7451,  5050, 14583,  2214,  5568, 10408,  5667,\n",
       "        2137,  2957,  3692, 23803,  3865, 10513,  6080, 20166,  2014,\n",
       "        2718,  3459,  4895,  3316, 14999,  4200,  5042,  6950,  2698,\n",
       "       11757,  2330, 14866,  1538, 10000,  4860,  6277,  2577,  9166,\n",
       "        2281,  3254, 39999,  9538,  2980,  1863,  7933,  3089,  4167,\n",
       "        9323,  3707,  2439,  2237,  8000,  1820, 51763,  3522,  5708,\n",
       "        4344,  3497,  2045,  5516,  6400,  1916,  4600, 33846,  3625,\n",
       "       39147,  2178,  2383,   674,  9328,  4885, 12000,  6033,  3858,\n",
       "        4191,  3125,  8333,  1907,  3416, 11000,  4923,  3992,  3917,\n",
       "        4408,  3244,  3975,  2479,  3418,  3430,  7787,  5703,  3173,\n",
       "        3850,   150,  3727,  5000,  4283,  2221,  4009,  2971,  7578,\n",
       "        3250,  4735,  4758,  2491,  3716,  3189,  3155,  5500,  5746,\n",
       "        3463,  3812,  3315,  5819,  2510,  2965,  3406,  6050,  9703,\n",
       "        6608,  2882,  1809,  1668,  3427,  2661, 16250,  3083,  6045,\n",
       "        5250, 14683,  4931,  6083,  2060,  3481,  7200,  5166,  4095,\n",
       "        4708,  4333,  2876,  3237, 11146,  2833,  2620,  3900,  2750,\n",
       "        3993,  3103,  4100,  4053,  3927,  2301,  1811, 20667,  3158,\n",
       "        3704,  4124,  9508,  3075,  4400,  3153,  4416,  6875,  4666,\n",
       "        2875,  1625,  2000,  3762, 20233,  7667,  2917,  2927,  2507,\n",
       "        2473,  3399,  2058,  3541,  4342,  3601,  3166, 15000,  8666,\n",
       "        4917,  5818,  4384,  2935, 63337,  9833,  5503,  1830,  4160,\n",
       "        2647,  2378,  4554,  2499,  3523,  6333,  2625,  9083,  8750,\n",
       "        2666,  2423,  3813,  3875,  5167,  4723,  4750,  3013,  6822,\n",
       "        6216,  5124,  6325, 19730, 15759,  5185,  3062,  2764,  4817,\n",
       "        4310,  3069,  5391,  5941,  7167,  4566,  2346,  3010,  5488,\n",
       "        9167,  9504,  1993,  3100,  3276,  3180,  3033,  3902,  1500,\n",
       "        2889,  2755,  1963,  7441,  4547,  2167,  2213,  8300, 81000,\n",
       "        3867,  6256,  6096,  2253,  2149,  2995,  1600,  1025,  3246,\n",
       "        5829,  2720,  7250, 14880,  4606,  5935,  2920,  2717,  8624,\n",
       "        6500, 12876,  2425, 10047,  1926, 10416,  7142,  3660,  7901,\n",
       "        4707, 37719,  3466,  3539,  3340,  2769,  2309,  1958,  3948,\n",
       "        2483,  7085,  3859,  4301,  3708,  4354,  8334,  2083,  7740,\n",
       "        3015,  5191,  2947, 16692,   210,  3450,  2653,  4691,  5532,\n",
       "       16525,  6700,  2873, 16667,  4350,  3095, 10833,  3547, 18333,\n",
       "        2435,  2699,  5333,  3691, 17263,  3597,  3326,  4625,  2895,\n",
       "        6283,   645,  3159,  4865,  4050,  3814, 20833,  3583, 13262,\n",
       "        3598,  6065,  3283,  2130,  5815,  2031,  3074,  4683,  3400,\n",
       "        2192,  5677,  7948,  4680, 17500,  3775,  5285,  2679,  6783,\n",
       "        4281,  3588, 11250, 18165,  2550,  6133,  3617,  6417,  4608,\n",
       "        2138,  3652,  2239,  3017,  2768,  3358,  2526,  2785,  6633,\n",
       "        2492,  2454,  3593,  5468,  2667, 10139,  3887,  4180,  3675,\n",
       "       19484,  5923,  5800,  8799,  4467,  3417,  5116, 16666,  6125,\n",
       "        6406,  3087,  3229,  1782,  3182,  6540,  1836,  1880,  2787,\n",
       "        2297,  2165,  2726,  9357, 16120,  3833,  6383,  2987,  9963,\n",
       "        5780,   416,  2894,  3676,  3987,  3232,  2900,  4106,  8072,\n",
       "        7583,  4121,  4212,  5415,  7515,  7600,  7721,  7789,  8536,\n",
       "        4500,  5001,  5080,  5409,  7589,  7555,  6589,  6625,  4525,\n",
       "        5595,  5987,  6566,  6259,  4803,  4905,  5905,  7500,  7609,\n",
       "        6089,  6599,  7399,  8359,  5655,  5565,  5958,  5545,  6585,\n",
       "        9525,  9548,  5625,  4225,  4450,  6544,  7059,  7775,  8540,\n",
       "        7734,  7394,  5754,  7213,  8350,  7336,  6807,  4334,  4677,\n",
       "        4912,  7714,  4080,  3657,  7762,  6542,  7469,  5733,  7280,\n",
       "        4024,  5621,  6154,  8445,  6263,  5055,  7839,  4771,  5268,\n",
       "        5731,  8236,  3518,  7063,  7105,  6474,  5854,  5874,  4229,\n",
       "        5786,  6990,  8123,  3563,  8220,  5440,  6132,  7391,  8133,\n",
       "        6873,  5495,  5918,  8347,  8375,  4513,  5164,  6701,  4151,\n",
       "        7959,  7582,  5697,  6461,  4892,  4028,  4553,  5299,  4252,\n",
       "        7228,  7749,  4447,  7007,  6178,  8091,  5135,  4556,  5691,\n",
       "        6195,  3530,  5196,  5487,  7072,  6054,  6373,  5188,  7773,\n",
       "        6201,  7214,  7271,  6412,  6175,  3854,  4577,  3642,  3548,\n",
       "        4010,  3760,  7744,  6754,  8203,  8063,  8128,  7382,  6998,\n",
       "        7977,  4800,  7076,  4205,  3786,  4110,  5192,  4323,  6108,\n",
       "        7288,  7541,  4199,  6607,  6504,  4900,  3764,  3784,  6401,\n",
       "        5779,  8383,  5060,  5760,  4534,  4512,  5408,  6413,  6578,\n",
       "        6284,  5653,  5195,  8367,  7488,  5099,  5477,  4522,  7260,\n",
       "        8329,  6102,  7728,  6403,  7206,  7987,  5235,  7969,  4096,\n",
       "        6972,  8287,  6155,  3555,  5807,  4646,  6240,  5411,  6499,\n",
       "        5736,  5058,  4697,  6550,  8411,  5330,  4424,  4927,  7655,\n",
       "        7998,  3886,  6582,  4004,  4369,  8070,  6262,  7570,  5647,\n",
       "        5853,  5812,  5220,  7506,  3751,  3874,  7054,  5933,  8061,\n",
       "        3897,  6077,  5236,  6666,  7619,  6269,  3671,  4034,  7546,\n",
       "        7297,  6937,  8327,  5542,  6865,  5582,  4437,  7041,  4233,\n",
       "        7683,  5694,  8022,  4218,  5843,  5347,  3730,  4150,  6744,\n",
       "        5361,  7151,  4961,  6236,  7222,  5737,  6787,  8448,  7284,\n",
       "        5021,  4394,  5023,  5295,  6811,  7489,  8003,  8354,  7257,\n",
       "        4019,  5711,  6074,  5426,  5577,  4052,  6046,  4101,  6934,\n",
       "        4617,  5372,  8260,  7483,  5524,  3718,  5081,  4836,  6761,\n",
       "        6429,  8374,  7032,  6635,  8235,  3895,  8234,  5392,  5631,\n",
       "        5676,  6140,  6991,  8478,  4939,  7367,  8138,  7249,  7047,\n",
       "        4656,  8139,  7784,  7320,  8446,  3915,  5421,  4092,  7598,\n",
       "        5534,  3580,  4510,  7971,  6391,  5796,  5994,  4774,  4903,\n",
       "        6913,  5030,  8407,  7602,  5282,  4561,  4644,  6781,  3857,\n",
       "        6973,  4920,  5981,  3838,  4243,  4615,  7474,  3901,  3576,\n",
       "        7066,  5177,  7192,  8007,  5636,  7164,  6863,  7910,  3965,\n",
       "        5011,  7733,  5758,  4254,  4842,  4621,  7067,  6665,  6857,\n",
       "        6577,  7494], dtype=int64)"
      ]
     },
     "execution_count": 38,
     "metadata": {},
     "output_type": "execute_result"
    }
   ],
   "source": [
    "data[\"ApplicantIncome\"].unique()"
   ]
  },
  {
   "cell_type": "code",
   "execution_count": 40,
   "id": "1fcac462-9438-45ba-a5db-ed04a43b189b",
   "metadata": {},
   "outputs": [
    {
     "data": {
      "text/plain": [
       "array([0.00000000e+00, 1.50800000e+03, 2.35800000e+03, 4.19600000e+03,\n",
       "       1.51600000e+03, 2.50400000e+03, 1.52600000e+03, 1.09680000e+04,\n",
       "       7.00000000e+02, 1.84000000e+03, 8.10600000e+03, 2.84000000e+03,\n",
       "       1.08600000e+03, 3.50000000e+03, 5.62500000e+03, 1.91100000e+03,\n",
       "       1.91700000e+03, 2.92500000e+03, 2.25300000e+03, 1.04000000e+03,\n",
       "       2.08300000e+03, 3.36900000e+03, 1.66700000e+03, 3.00000000e+03,\n",
       "       2.06700000e+03, 1.33000000e+03, 1.45900000e+03, 7.21000000e+03,\n",
       "       1.66800000e+03, 1.21300000e+03, 2.33600000e+03, 3.44000000e+03,\n",
       "       2.27500000e+03, 1.64400000e+03, 1.16700000e+03, 1.59100000e+03,\n",
       "       2.20000000e+03, 2.25000000e+03, 2.85900000e+03, 3.79600000e+03,\n",
       "       3.44900000e+03, 4.59500000e+03, 2.25400000e+03, 3.06600000e+03,\n",
       "       1.87500000e+03, 1.77400000e+03, 4.75000000e+03, 3.02200000e+03,\n",
       "       4.00000000e+03, 2.16600000e+03, 1.88100000e+03, 2.53100000e+03,\n",
       "       2.00000000e+03, 2.11800000e+03, 4.16700000e+03, 2.90000000e+03,\n",
       "       5.65400000e+03, 1.82000000e+03, 2.30200000e+03, 9.97000000e+02,\n",
       "       3.54100000e+03, 3.26300000e+03, 3.80600000e+03, 3.58300000e+03,\n",
       "       7.54000000e+02, 1.03000000e+03, 1.12600000e+03, 3.60000000e+03,\n",
       "       2.33300000e+03, 4.11400000e+03, 2.28300000e+03, 1.39800000e+03,\n",
       "       2.14200000e+03, 2.66700000e+03, 8.98000000e+03, 2.01400000e+03,\n",
       "       1.64000000e+03, 3.85000000e+03, 2.56900000e+03, 1.92900000e+03,\n",
       "       7.75000000e+03, 1.43000000e+03, 2.03400000e+03, 4.48600000e+03,\n",
       "       1.42500000e+03, 1.66600000e+03, 8.30000000e+02, 3.75000000e+03,\n",
       "       1.04100000e+03, 1.28000000e+03, 1.44700000e+03, 3.16600000e+03,\n",
       "       3.33300000e+03, 1.76900000e+03, 7.36000000e+02, 1.96400000e+03,\n",
       "       1.61900000e+03, 1.13000000e+04, 1.45100000e+03, 7.25000000e+03,\n",
       "       5.06300000e+03, 2.13800000e+03, 5.29600000e+03, 2.58300000e+03,\n",
       "       2.36500000e+03, 2.81600000e+03, 2.50000000e+03, 1.08300000e+03,\n",
       "       1.25000000e+03, 3.02100000e+03, 9.83000000e+02, 1.80000000e+03,\n",
       "       1.77500000e+03, 2.38300000e+03, 1.71700000e+03, 2.79100000e+03,\n",
       "       1.01000000e+03, 1.69500000e+03, 2.05400000e+03, 2.59800000e+03,\n",
       "       1.77900000e+03, 1.26000000e+03, 5.00000000e+03, 1.98300000e+03,\n",
       "       5.70100000e+03, 1.30000000e+03, 4.41700000e+03, 4.33300000e+03,\n",
       "       1.84300000e+03, 1.86800000e+03, 3.89000000e+03, 2.16700000e+03,\n",
       "       7.10100000e+03, 2.10000000e+03, 4.25000000e+03, 2.20900000e+03,\n",
       "       3.44700000e+03, 1.38700000e+03, 1.81100000e+03, 1.56000000e+03,\n",
       "       1.85700000e+03, 2.22300000e+03, 1.84200000e+03, 3.27400000e+03,\n",
       "       2.42600000e+03, 8.00000000e+02, 9.85799988e+02, 3.05300000e+03,\n",
       "       2.41600000e+03, 3.33400000e+03, 2.54100000e+03, 2.93400000e+03,\n",
       "       1.75000000e+03, 1.80300000e+03, 1.86300000e+03, 2.40500000e+03,\n",
       "       2.13400000e+03, 1.89000000e+02, 1.59000000e+03, 2.98500000e+03,\n",
       "       4.98300000e+03, 2.16000000e+03, 2.45100000e+03, 1.79300000e+03,\n",
       "       1.83300000e+03, 4.49000000e+03, 6.88000000e+02, 4.60000000e+03,\n",
       "       1.58700000e+03, 1.22900000e+03, 2.33000000e+03, 2.45800000e+03,\n",
       "       3.23000000e+03, 2.16800000e+03, 4.58300000e+03, 6.25000000e+03,\n",
       "       5.05000000e+02, 3.16700000e+03, 3.66700000e+03, 3.03300000e+03,\n",
       "       5.26600000e+03, 7.87300000e+03, 1.98700000e+03, 9.23000000e+02,\n",
       "       4.99600000e+03, 4.23200000e+03, 1.60000000e+03, 3.13600000e+03,\n",
       "       2.41700000e+03, 2.11500000e+03, 1.62500000e+03, 1.40000000e+03,\n",
       "       4.84000000e+02, 2.00000000e+04, 2.40000000e+03, 2.03300000e+03,\n",
       "       3.23700000e+03, 2.77300000e+03, 1.41700000e+03, 1.71900000e+03,\n",
       "       4.30000000e+03, 1.61200008e+01, 2.34000000e+03, 1.85100000e+03,\n",
       "       1.12500000e+03, 5.06400000e+03, 1.99300000e+03, 8.33300000e+03,\n",
       "       1.21000000e+03, 1.37600000e+03, 1.71000000e+03, 1.54200000e+03,\n",
       "       1.25500000e+03, 1.45600000e+03, 1.73300000e+03, 2.46600000e+03,\n",
       "       4.08300000e+03, 2.18800000e+03, 1.66400000e+03, 2.91700000e+03,\n",
       "       2.07900000e+03, 1.50000000e+03, 4.64800000e+03, 1.01400000e+03,\n",
       "       1.87200000e+03, 1.60300000e+03, 3.15000000e+03, 2.43600000e+03,\n",
       "       2.78500000e+03, 1.13100000e+03, 2.15700000e+03, 9.13000000e+02,\n",
       "       1.70000000e+03, 2.85700000e+03, 4.41600000e+03, 3.68300000e+03,\n",
       "       5.62400000e+03, 5.30200000e+03, 1.48300000e+03, 6.66700000e+03,\n",
       "       3.01300000e+03, 1.28700000e+03, 2.00400000e+03, 2.03500000e+03,\n",
       "       6.66600000e+03, 3.66600000e+03, 3.42800000e+03, 1.63200000e+03,\n",
       "       1.91500000e+03, 1.74200000e+03, 1.42400000e+03, 7.16600000e+03,\n",
       "       2.08700000e+03, 1.30200000e+03, 5.50000000e+03, 2.04200000e+03,\n",
       "       3.90600000e+03, 5.36000000e+02, 2.84500000e+03, 2.52400000e+03,\n",
       "       6.63000000e+02, 1.95000000e+03, 1.78300000e+03, 2.01600000e+03,\n",
       "       2.37500000e+03, 3.25000000e+03, 4.26600000e+03, 1.03200000e+03,\n",
       "       2.66900000e+03, 2.30600000e+03, 2.42000000e+02, 2.06400000e+03,\n",
       "       4.61000000e+02, 2.21000000e+03, 2.73900000e+03, 2.23200000e+03,\n",
       "       3.38370000e+04, 1.52200000e+03, 3.41600000e+03, 3.30000000e+03,\n",
       "       1.00000000e+03, 4.16670000e+04, 2.79200000e+03, 4.30100000e+03,\n",
       "       3.80000000e+03, 1.41100000e+03, 2.40000000e+02, 2.52600000e+03,\n",
       "       4.50000000e+03, 2.53500000e+03, 5.66200000e+03,            nan,\n",
       "       4.52500000e+03, 2.56200000e+03, 5.40000000e+03, 4.50200000e+03,\n",
       "       3.50200000e+03, 5.02000000e+03, 3.20000000e+03, 2.58400000e+03,\n",
       "       6.54400000e+03, 5.60000000e+03, 4.95800000e+03, 5.46500000e+03,\n",
       "       6.54500000e+03, 4.53500000e+03, 5.02400000e+03, 6.08400000e+03,\n",
       "       6.21500000e+03, 3.59800000e+03, 5.06900000e+03, 6.58500000e+03,\n",
       "       5.82500000e+03, 5.42900000e+03, 4.68500000e+03, 6.08200000e+03])"
      ]
     },
     "execution_count": 40,
     "metadata": {},
     "output_type": "execute_result"
    }
   ],
   "source": [
    "data[\"CoapplicantIncome\"].unique()"
   ]
  },
  {
   "cell_type": "code",
   "execution_count": 42,
   "id": "87758580-3a79-4b0b-a5a8-e5c69ace8c90",
   "metadata": {},
   "outputs": [
    {
     "data": {
      "text/plain": [
       "array([ nan, 128.,  66., 120., 141., 267.,  95., 158., 168., 349.,  70.,\n",
       "       109., 200., 114.,  17., 125., 100.,  76., 133., 115., 104., 315.,\n",
       "       116., 112., 151., 191., 122., 110.,  35., 201.,  74., 106., 320.,\n",
       "       144., 184.,  80.,  47.,  75., 134.,  96.,  88.,  44., 286.,  97.,\n",
       "       135., 180.,  99., 165., 258., 126., 312., 136., 172.,  81., 187.,\n",
       "       113., 176., 130., 111., 167., 265.,  50., 210., 175., 131., 188.,\n",
       "        25., 137., 160., 225., 216.,  94., 139., 152., 118., 185., 154.,\n",
       "        85., 259., 194.,  93., 370., 182., 650., 102., 290.,  84., 242.,\n",
       "       129.,  30., 244., 600., 255.,  98., 275., 121.,  63., 700.,  87.,\n",
       "       101., 495.,  67.,  73., 260., 108.,  58.,  48., 164., 170.,  83.,\n",
       "        90., 166., 124.,  55.,  59., 127., 214., 240.,  72.,  60., 138.,\n",
       "        42., 280., 140., 155., 123., 279., 192., 304., 330., 150., 207.,\n",
       "       436.,  78.,  54.,  89., 143., 105., 132., 480.,  56., 159., 300.,\n",
       "       376., 117.,  71., 490., 173.,  46., 228., 308., 236., 570., 380.,\n",
       "       296., 156., 103.,  45.,  65.,  53., 360.,  62., 218., 178., 239.,\n",
       "       405., 148., 190., 149., 153., 162., 230.,  86., 234., 246., 500.,\n",
       "       186., 119., 107., 209., 208., 243.,  40., 250., 311., 400., 161.,\n",
       "       196., 324., 157., 145., 181.,  26., 211.,   9., 205.,  36.,  61.,\n",
       "       146., 292., 142., 350., 496., 253., 183., 189.,  28.,  32., 171.,\n",
       "        77.,  39.,  92.,  91.,  57.,  82., 179., 195.,  41.,  29., 193.,\n",
       "        52.,  43., 197.,  51.,  31., 163.,  64.,  68.,  27.,  37.,  69.,\n",
       "        33., 174.,  38.,  34., 169.,  79.,  49.])"
      ]
     },
     "execution_count": 42,
     "metadata": {},
     "output_type": "execute_result"
    }
   ],
   "source": [
    "data[\"LoanAmount\"].unique()"
   ]
  },
  {
   "cell_type": "code",
   "execution_count": 44,
   "id": "34cdbbb6-3e1d-4bba-a81c-e9abdc5ea77a",
   "metadata": {},
   "outputs": [
    {
     "data": {
      "text/plain": [
       "array([360., 120., 240.,  nan, 180.,  60., 300., 480.,  36.,  84.,  12.])"
      ]
     },
     "execution_count": 44,
     "metadata": {},
     "output_type": "execute_result"
    }
   ],
   "source": [
    "data[\"Loan_Amount_Term\"].unique()"
   ]
  },
  {
   "cell_type": "code",
   "execution_count": 46,
   "id": "2c696c08-e316-4535-8915-58b7d111e33b",
   "metadata": {},
   "outputs": [
    {
     "data": {
      "text/plain": [
       "Loan_Amount_Term\n",
       "360.0    855\n",
       "180.0     79\n",
       "480.0     15\n",
       "300.0     13\n",
       "240.0      4\n",
       "84.0       4\n",
       "120.0      3\n",
       "60.0       2\n",
       "36.0       2\n",
       "12.0       1\n",
       "Name: count, dtype: int64"
      ]
     },
     "execution_count": 46,
     "metadata": {},
     "output_type": "execute_result"
    }
   ],
   "source": [
    "data[\"Loan_Amount_Term\"].value_counts()"
   ]
  },
  {
   "cell_type": "code",
   "execution_count": 48,
   "id": "00d64fe6-0998-4171-8d8d-4b316564f62b",
   "metadata": {},
   "outputs": [
    {
     "data": {
      "text/plain": [
       "array([ 1.,  0., nan])"
      ]
     },
     "execution_count": 48,
     "metadata": {},
     "output_type": "execute_result"
    }
   ],
   "source": [
    "data[\"Credit_History\"].unique()"
   ]
  },
  {
   "cell_type": "code",
   "execution_count": 50,
   "id": "927c1d1a-3d41-4841-bec1-bd7426498e90",
   "metadata": {},
   "outputs": [],
   "source": [
    "data[\"Credit_History\"]=data[\"Credit_History\"].replace({1:\"Good\",0:\"Bad\"})"
   ]
  },
  {
   "cell_type": "code",
   "execution_count": 52,
   "id": "3e29aac9-f997-4408-94eb-4dde311127a1",
   "metadata": {},
   "outputs": [
    {
     "data": {
      "text/plain": [
       "array(['Good', 'Bad', nan], dtype=object)"
      ]
     },
     "execution_count": 52,
     "metadata": {},
     "output_type": "execute_result"
    }
   ],
   "source": [
    "data[\"Credit_History\"].unique()"
   ]
  },
  {
   "cell_type": "code",
   "execution_count": 54,
   "id": "2c5b8877-c971-4e74-bdde-85e5fb946c4c",
   "metadata": {},
   "outputs": [
    {
     "data": {
      "text/plain": [
       "Credit_History\n",
       "Good    730\n",
       "Bad     183\n",
       "Name: count, dtype: int64"
      ]
     },
     "execution_count": 54,
     "metadata": {},
     "output_type": "execute_result"
    }
   ],
   "source": [
    "data[\"Credit_History\"].value_counts()"
   ]
  },
  {
   "cell_type": "code",
   "execution_count": 56,
   "id": "ca249d00-eb66-4740-94fb-f9e02b98527b",
   "metadata": {},
   "outputs": [
    {
     "data": {
      "text/plain": [
       "array(['Urban', 'Rural', 'Semiurban'], dtype=object)"
      ]
     },
     "execution_count": 56,
     "metadata": {},
     "output_type": "execute_result"
    }
   ],
   "source": [
    "data[\"Property_Area\"].unique()"
   ]
  },
  {
   "cell_type": "code",
   "execution_count": 58,
   "id": "f14d7504-7843-42dc-bc5d-67e16ec3d8d8",
   "metadata": {},
   "outputs": [
    {
     "data": {
      "text/plain": [
       "Property_Area\n",
       "Urban        393\n",
       "Semiurban    342\n",
       "Rural        266\n",
       "Name: count, dtype: int64"
      ]
     },
     "execution_count": 58,
     "metadata": {},
     "output_type": "execute_result"
    }
   ],
   "source": [
    "data[\"Property_Area\"].value_counts()"
   ]
  },
  {
   "cell_type": "code",
   "execution_count": 60,
   "id": "ad57430d-7de1-4a62-9cc5-f078bfd24fe5",
   "metadata": {},
   "outputs": [
    {
     "data": {
      "text/plain": [
       "array(['Y', 'N'], dtype=object)"
      ]
     },
     "execution_count": 60,
     "metadata": {},
     "output_type": "execute_result"
    }
   ],
   "source": [
    "data[\"Loan_Status\"].unique()"
   ]
  },
  {
   "cell_type": "code",
   "execution_count": 62,
   "id": "88b4c28a-368e-4827-86fa-99aaf3a052a2",
   "metadata": {},
   "outputs": [
    {
     "data": {
      "text/plain": [
       "Loan_Status\n",
       "Y    721\n",
       "N    280\n",
       "Name: count, dtype: int64"
      ]
     },
     "execution_count": 62,
     "metadata": {},
     "output_type": "execute_result"
    }
   ],
   "source": [
    "data[\"Loan_Status\"].value_counts()"
   ]
  },
  {
   "cell_type": "markdown",
   "id": "10fd7ba9-f6ba-4087-8551-c48979b53fff",
   "metadata": {},
   "source": [
    "> Convert the data set into catogerys of Continous,Discrete_Categorical And Discrete_count by understanding the data"
   ]
  },
  {
   "cell_type": "code",
   "execution_count": 64,
   "id": "ac205051-9722-4b70-b756-d11abf8faf66",
   "metadata": {},
   "outputs": [],
   "source": [
    "Continous=[\"ApplicantIncome\",\"CoapplicantIncome\",\"LoanAmount\"]\n",
    "Discrete_Categorical=[\"Gender\",\"Married\",\"Education\",\"Self_Employed\",\"Credit_History\",\"Property_Area\",\"Loan_Status\"]\n",
    "Discrete_count=[\"Dependents\",\"Loan_Amount_Term\"]"
   ]
  },
  {
   "cell_type": "markdown",
   "id": "b398bf3a-b12d-4df2-bbad-a082bc56fccf",
   "metadata": {},
   "source": [
    "# Exploratory Data Analysis(EDA)\n",
    "> Appling on Contious values"
   ]
  },
  {
   "cell_type": "code",
   "execution_count": 67,
   "id": "00092ecc-43ee-4408-8af6-8136fd41d46a",
   "metadata": {},
   "outputs": [
    {
     "data": {
      "text/html": [
       "<div>\n",
       "<style scoped>\n",
       "    .dataframe tbody tr th:only-of-type {\n",
       "        vertical-align: middle;\n",
       "    }\n",
       "\n",
       "    .dataframe tbody tr th {\n",
       "        vertical-align: top;\n",
       "    }\n",
       "\n",
       "    .dataframe thead th {\n",
       "        text-align: right;\n",
       "    }\n",
       "</style>\n",
       "<table border=\"1\" class=\"dataframe\">\n",
       "  <thead>\n",
       "    <tr style=\"text-align: right;\">\n",
       "      <th></th>\n",
       "      <th>ApplicantIncome</th>\n",
       "      <th>CoapplicantIncome</th>\n",
       "      <th>LoanAmount</th>\n",
       "    </tr>\n",
       "  </thead>\n",
       "  <tbody>\n",
       "    <tr>\n",
       "      <th>count</th>\n",
       "      <td>1001.000000</td>\n",
       "      <td>997.000000</td>\n",
       "      <td>979.000000</td>\n",
       "    </tr>\n",
       "    <tr>\n",
       "      <th>mean</th>\n",
       "      <td>5660.892108</td>\n",
       "      <td>1254.610752</td>\n",
       "      <td>130.736466</td>\n",
       "    </tr>\n",
       "    <tr>\n",
       "      <th>std</th>\n",
       "      <td>4876.981225</td>\n",
       "      <td>2562.650697</td>\n",
       "      <td>76.404317</td>\n",
       "    </tr>\n",
       "    <tr>\n",
       "      <th>min</th>\n",
       "      <td>150.000000</td>\n",
       "      <td>0.000000</td>\n",
       "      <td>9.000000</td>\n",
       "    </tr>\n",
       "    <tr>\n",
       "      <th>25%</th>\n",
       "      <td>3418.000000</td>\n",
       "      <td>0.000000</td>\n",
       "      <td>84.000000</td>\n",
       "    </tr>\n",
       "    <tr>\n",
       "      <th>50%</th>\n",
       "      <td>4836.000000</td>\n",
       "      <td>0.000000</td>\n",
       "      <td>120.000000</td>\n",
       "    </tr>\n",
       "    <tr>\n",
       "      <th>75%</th>\n",
       "      <td>6754.000000</td>\n",
       "      <td>2033.000000</td>\n",
       "      <td>160.000000</td>\n",
       "    </tr>\n",
       "    <tr>\n",
       "      <th>max</th>\n",
       "      <td>81000.000000</td>\n",
       "      <td>41667.000000</td>\n",
       "      <td>700.000000</td>\n",
       "    </tr>\n",
       "  </tbody>\n",
       "</table>\n",
       "</div>"
      ],
      "text/plain": [
       "       ApplicantIncome  CoapplicantIncome  LoanAmount\n",
       "count      1001.000000         997.000000  979.000000\n",
       "mean       5660.892108        1254.610752  130.736466\n",
       "std        4876.981225        2562.650697   76.404317\n",
       "min         150.000000           0.000000    9.000000\n",
       "25%        3418.000000           0.000000   84.000000\n",
       "50%        4836.000000           0.000000  120.000000\n",
       "75%        6754.000000        2033.000000  160.000000\n",
       "max       81000.000000       41667.000000  700.000000"
      ]
     },
     "execution_count": 67,
     "metadata": {},
     "output_type": "execute_result"
    }
   ],
   "source": [
    "data[Continous].describe()"
   ]
  },
  {
   "cell_type": "code",
   "execution_count": 69,
   "id": "7a05bd8a-91ad-4d40-ac30-2b74e40f1940",
   "metadata": {},
   "outputs": [
    {
     "data": {
      "image/png": "[encoded data removed]",
      "text/plain": [
       "<Figure size 2500x1000 with 3 Axes>"
      ]
     },
     "metadata": {},
     "output_type": "display_data"
    }
   ],
   "source": [
    "plt.figure(figsize=(25, 10)) \n",
    "plt.subplot(1, 3, 1)\n",
    "sns.histplot(data[\"ApplicantIncome\"], kde=True, color=\"green\")\n",
    "plt.subplot(1, 3, 2)\n",
    "sns.histplot(data[\"CoapplicantIncome\"], kde=True, color=\"green\")\n",
    "plt.subplot(1, 3, 3)\n",
    "sns.histplot(data[\"LoanAmount\"], kde=True, color=\"green\")\n",
    "plt.suptitle(\"Univariate Analysis on Numerical Data\")\n",
    "plt.show()"
   ]
  },
  {
   "cell_type": "code",
   "execution_count": 71,
   "id": "028ba66e-34df-4bad-add0-e5c37335a637",
   "metadata": {},
   "outputs": [
    {
     "data": {
      "text/plain": [
       "ApplicantIncome      7.725313\n",
       "CoapplicantIncome    7.337908\n",
       "LoanAmount           2.581565\n",
       "dtype: float64"
      ]
     },
     "execution_count": 71,
     "metadata": {},
     "output_type": "execute_result"
    }
   ],
   "source": [
    "data[Continous].skew()"
   ]
  },
  {
   "cell_type": "code",
   "execution_count": 73,
   "id": "edaece17-ae96-4d67-9260-9a64866a0b5b",
   "metadata": {},
   "outputs": [
    {
     "data": {
      "image/png": "[encoded data removed]",
      "text/plain": [
       "<Figure size 750x750 with 12 Axes>"
      ]
     },
     "metadata": {},
     "output_type": "display_data"
    }
   ],
   "source": [
    "sns.pairplot(data[Continous],diag_kws={\"color\": \"green\"})\n",
    "plt.show()"
   ]
  },
  {
   "cell_type": "code",
   "execution_count": 74,
   "id": "a7a8b34e-5826-402d-975e-f3f823f1c3d3",
   "metadata": {},
   "outputs": [
    {
     "data": {
      "image/png": "[encoded data removed]",
      "text/plain": [
       "<Figure size 640x480 with 2 Axes>"
      ]
     },
     "metadata": {},
     "output_type": "display_data"
    }
   ],
   "source": [
    "sns.heatmap(data[Continous].corr(),annot=True)\n",
    "plt.show()"
   ]
  },
  {
   "cell_type": "code",
   "execution_count": 75,
   "id": "a49f9d4e-50a6-4f52-ae9d-e7907735fed1",
   "metadata": {},
   "outputs": [
    {
     "data": {
      "image/png": "[encoded data removed]",
      "text/plain": [
       "<Figure size 640x480 with 3 Axes>"
      ]
     },
     "metadata": {},
     "output_type": "display_data"
    }
   ],
   "source": [
    "plt.subplot(1,3,1)\n",
    "sns.boxplot(data['ApplicantIncome'],palette=\"Set1\")\n",
    "plt.subplot(1,3,2)\n",
    "sns.boxplot(data['CoapplicantIncome'], palette=\"Paired\")\n",
    "plt.subplot(1,3,3)\n",
    "sns.boxplot(data['LoanAmount'], palette=\"Set2\")\n",
    "plt.suptitle(\"Representing the outliers in the data set\")\n",
    "plt.show()"
   ]
  },
  {
   "cell_type": "markdown",
   "id": "48d776b8-9361-48f2-8c9a-2af0cd9938eb",
   "metadata": {},
   "source": [
    "Applying on Discrete Variables"
   ]
  },
  {
   "cell_type": "code",
   "execution_count": 77,
   "id": "f9d85d42-fe51-44e7-8e41-8a3d10d20051",
   "metadata": {},
   "outputs": [
    {
     "data": {
      "text/html": [
       "<div>\n",
       "<style scoped>\n",
       "    .dataframe tbody tr th:only-of-type {\n",
       "        vertical-align: middle;\n",
       "    }\n",
       "\n",
       "    .dataframe tbody tr th {\n",
       "        vertical-align: top;\n",
       "    }\n",
       "\n",
       "    .dataframe thead th {\n",
       "        text-align: right;\n",
       "    }\n",
       "</style>\n",
       "<table border=\"1\" class=\"dataframe\">\n",
       "  <thead>\n",
       "    <tr style=\"text-align: right;\">\n",
       "      <th></th>\n",
       "      <th>Gender</th>\n",
       "      <th>Married</th>\n",
       "      <th>Education</th>\n",
       "      <th>Self_Employed</th>\n",
       "      <th>Credit_History</th>\n",
       "      <th>Property_Area</th>\n",
       "      <th>Loan_Status</th>\n",
       "    </tr>\n",
       "  </thead>\n",
       "  <tbody>\n",
       "    <tr>\n",
       "      <th>count</th>\n",
       "      <td>987</td>\n",
       "      <td>998</td>\n",
       "      <td>1001</td>\n",
       "      <td>918</td>\n",
       "      <td>913</td>\n",
       "      <td>1001</td>\n",
       "      <td>1001</td>\n",
       "    </tr>\n",
       "    <tr>\n",
       "      <th>unique</th>\n",
       "      <td>2</td>\n",
       "      <td>2</td>\n",
       "      <td>2</td>\n",
       "      <td>2</td>\n",
       "      <td>2</td>\n",
       "      <td>3</td>\n",
       "      <td>2</td>\n",
       "    </tr>\n",
       "    <tr>\n",
       "      <th>top</th>\n",
       "      <td>Male</td>\n",
       "      <td>Yes</td>\n",
       "      <td>Graduate</td>\n",
       "      <td>No</td>\n",
       "      <td>Good</td>\n",
       "      <td>Urban</td>\n",
       "      <td>Y</td>\n",
       "    </tr>\n",
       "    <tr>\n",
       "      <th>freq</th>\n",
       "      <td>783</td>\n",
       "      <td>623</td>\n",
       "      <td>784</td>\n",
       "      <td>805</td>\n",
       "      <td>730</td>\n",
       "      <td>393</td>\n",
       "      <td>721</td>\n",
       "    </tr>\n",
       "  </tbody>\n",
       "</table>\n",
       "</div>"
      ],
      "text/plain": [
       "       Gender Married Education Self_Employed Credit_History Property_Area  \\\n",
       "count     987     998      1001           918            913          1001   \n",
       "unique      2       2         2             2              2             3   \n",
       "top      Male     Yes  Graduate            No           Good         Urban   \n",
       "freq      783     623       784           805            730           393   \n",
       "\n",
       "       Loan_Status  \n",
       "count         1001  \n",
       "unique           2  \n",
       "top              Y  \n",
       "freq           721  "
      ]
     },
     "execution_count": 77,
     "metadata": {},
     "output_type": "execute_result"
    }
   ],
   "source": [
    "data[Discrete_Categorical].describe()"
   ]
  },
  {
   "cell_type": "markdown",
   "id": "6437bccd-df04-4bf8-94a0-69d2a173fd7d",
   "metadata": {},
   "source": [
    "The above data is a summary statistic for the loan applicants dataset, having key information about their demographic and financial backgrounds. Here's an interpretation of each column, based on the statistics provided:\n",
    "\n",
    "1. **Gender**:\n",
    "   - Two unique values in 987 entries; this probably means two categories of gender, such as \"Male\" and \"Female\".\n",
    "   - Most frequent gender: \"Male\", 783 occurrences, which shows there might be more male applicants than females.\n",
    "\n",
    "2. **Married**:\n",
    "\t* In the marital status column, there are two unique values among entries: \"Yes\" for married and \"No\" for unmarried.\n",
    "\t* Most of the applicants are married: 623 entries in this column represent married.\n",
    "\n",
    "3. **Education**:\n",
    "\t* In the 1,001 entries, this column contains two unique values, representing the educational background as \"Graduate\" and \"Not Graduate.\".\n",
    "    - 784 applicants, the majority of them, are \"Graduate,\" and this indicates an even higher level of education among applicants.\n",
    "\n",
    "4. **Self_Employed**:\n",
    "   - It has information on 918 applicants with two values in the field naming self-employed (\"Yes\" or \"No\").\n",
    "   - A majority of 805 applicants is not self-employed.\n",
    "\n",
    "5. **Credit_History**:\n",
    "    - Credit history information is available for 913 applicants and contains two values; it may be a categorical variable, such as \"Good\" and \"Poor.\"\n",
    "    - The most frequent value is \"Good,\" with 730 people. This indicates that generally, there is a good credit history for the applicants.\n",
    "\n",
    "6. **Property_Area:\n",
    "    - Property area information of 1,001 applicants with three unique values could be \"Urban,\" \"Semiurban,\" and \"Rural.\"\n",
    "   The frequency of the \"Urban\" area is the highest, with 393 applicants coming from an urban area.\n",
    "\n",
    "7. **Loan_Status**:\n",
    "   - This is the status of the loan, available for 1,001 entries, and it has two values that show if the loan was approved (\"Y\") or not approved (\"N\").\n",
    "    - The most frequent status is \"Y,\" with 721 cases, indicating a large number of loan applications were approved.\n",
    "\r\n"
   ]
  },
  {
   "cell_type": "code",
   "execution_count": 79,
   "id": "8643c35b-a855-411e-8cf7-ae6790a61d8a",
   "metadata": {},
   "outputs": [
    {
     "data": {
      "text/plain": [
       "Gender\n",
       "Male      783\n",
       "Female    204\n",
       "Name: count, dtype: int64"
      ]
     },
     "execution_count": 79,
     "metadata": {},
     "output_type": "execute_result"
    }
   ],
   "source": [
    "data[\"Gender\"].value_counts()"
   ]
  },
  {
   "cell_type": "code",
   "execution_count": 80,
   "id": "608468de-8129-42e1-bcbb-8a33743f345f",
   "metadata": {},
   "outputs": [],
   "source": [
    "\n",
    "data['Gender'] = data['Gender'].astype('category')\n",
    "data['Married'] = data['Married'].astype('category')\n",
    "\n"
   ]
  },
  {
   "cell_type": "code",
   "execution_count": 81,
   "id": "4b6c294e-2bd6-4889-b931-28b95700651f",
   "metadata": {},
   "outputs": [
    {
     "data": {
      "image/png": "[encoded data removed]",
      "text/plain": [
       "<Figure size 2000x1000 with 6 Axes>"
      ]
     },
     "metadata": {},
     "output_type": "display_data"
    }
   ],
   "source": [
    " \n",
    "plt.rcParams['figure.figsize'] = (20, 10)\n",
    "\n",
    "# Correct usage of sns.countplot()\n",
    "plt.subplot(2, 3, 1)\n",
    "sns.countplot(x='Married', data=data)\n",
    "\n",
    "plt.subplot(2, 3, 2)\n",
    "sns.countplot(x='Self_Employed', data=data)\n",
    "\n",
    "plt.subplot(2, 3, 3)\n",
    "sns.countplot(x='Gender', data=data)\n",
    "\n",
    "plt.subplot(2, 3, 4)\n",
    "sns.countplot(x='Property_Area', data=data)\n",
    "\n",
    "plt.subplot(2, 3, 5)\n",
    "sns.countplot(x='Education', data=data)\n",
    "\n",
    "plt.subplot(2, 3, 6)\n",
    "sns.countplot(x='Loan_Status', data=data)\n",
    "\n",
    "plt.suptitle(\"Uni-variate Analysis on Categorical Columns\")\n",
    "plt.show()\n"
   ]
  },
  {
   "cell_type": "markdown",
   "id": "feef5b41-d845-4e21-a02d-c21231a5f875",
   "metadata": {},
   "source": [
    "# Data Preprocessing"
   ]
  },
  {
   "cell_type": "markdown",
   "id": "6c340192-5497-4747-af22-44f4cac58d71",
   "metadata": {},
   "source": [
    "Initial step is to combining the ApplicantIncome and CoapplicantIncome to gather and making into one as Income and droping the main columns in the data set"
   ]
  },
  {
   "cell_type": "code",
   "execution_count": 87,
   "id": "35cc58ae-7fc2-4327-8f93-2645feacbead",
   "metadata": {},
   "outputs": [],
   "source": [
    "data[\"Income\"]=data[\"ApplicantIncome\"]+data[\"CoapplicantIncome\"]\n",
    "data.drop(columns=[\"ApplicantIncome\",\"CoapplicantIncome\"],inplace=True)"
   ]
  },
  {
   "cell_type": "markdown",
   "id": "7086a4a7-fa59-412c-b6f3-76f0d296c413",
   "metadata": {},
   "source": [
    "**Modifying the wrong data in Dependent Column**"
   ]
  },
  {
   "cell_type": "code",
   "execution_count": 92,
   "id": "1f783dc0-643a-41ac-912f-c59cde293ac5",
   "metadata": {},
   "outputs": [],
   "source": [
    "data[\"Dependents\"]=data[\"Dependents\"].replace({'3+':3})"
   ]
  },
  {
   "cell_type": "code",
   "execution_count": 94,
   "id": "ef0940f0-b047-4813-9701-34a68b8d16ab",
   "metadata": {},
   "outputs": [
    {
     "data": {
      "text/plain": [
       "array(['0', '1', '2', 3, nan], dtype=object)"
      ]
     },
     "execution_count": 94,
     "metadata": {},
     "output_type": "execute_result"
    }
   ],
   "source": [
    "data[\"Dependents\"].unique()"
   ]
  },
  {
   "cell_type": "markdown",
   "id": "57ad90a3-4ad5-4229-9fc8-efaa21ba300a",
   "metadata": {},
   "source": [
    "**Missing value Treatement like \"NAN\" or \"INF\"**"
   ]
  },
  {
   "cell_type": "code",
   "execution_count": 99,
   "id": "1bca6a58-f9dc-4967-9f62-13a948c9cbec",
   "metadata": {},
   "outputs": [
    {
     "data": {
      "text/plain": [
       "Gender              14\n",
       "Married              3\n",
       "Dependents          15\n",
       "Education            0\n",
       "Self_Employed       83\n",
       "LoanAmount          22\n",
       "Loan_Amount_Term    23\n",
       "Credit_History      88\n",
       "Property_Area        0\n",
       "Loan_Status          0\n",
       "Income               4\n",
       "dtype: int64"
      ]
     },
     "execution_count": 99,
     "metadata": {},
     "output_type": "execute_result"
    }
   ],
   "source": [
    "data.isnull().sum()"
   ]
  },
  {
   "cell_type": "code",
   "execution_count": 101,
   "id": "888e66a1-bb99-48c9-af9c-c6c0d58054ab",
   "metadata": {},
   "outputs": [
    {
     "data": {
      "text/plain": [
       "Gender              1.398601\n",
       "Married             0.299700\n",
       "Dependents          1.498501\n",
       "Education           0.000000\n",
       "Self_Employed       8.291708\n",
       "LoanAmount          2.197802\n",
       "Loan_Amount_Term    2.297702\n",
       "Credit_History      8.791209\n",
       "Property_Area       0.000000\n",
       "Loan_Status         0.000000\n",
       "Income              0.399600\n",
       "dtype: float64"
      ]
     },
     "execution_count": 101,
     "metadata": {},
     "output_type": "execute_result"
    }
   ],
   "source": [
    "data.isnull().sum()/len(data)*100"
   ]
  },
  {
   "cell_type": "code",
   "execution_count": 103,
   "id": "59a4c9b9-9b7b-47f0-abaa-a5894a994a98",
   "metadata": {},
   "outputs": [],
   "source": [
    "data=data.dropna(subset=[\"Income\",\"LoanAmount\",\"Loan_Amount_Term\",\"Credit_History\"])"
   ]
  },
  {
   "cell_type": "code",
   "execution_count": 105,
   "id": "3f5353bd-1e46-455e-a07f-5210abc9a88a",
   "metadata": {},
   "outputs": [
    {
     "data": {
      "text/plain": [
       "Gender              12\n",
       "Married              2\n",
       "Dependents          12\n",
       "Education            0\n",
       "Self_Employed       71\n",
       "LoanAmount           0\n",
       "Loan_Amount_Term     0\n",
       "Credit_History       0\n",
       "Property_Area        0\n",
       "Loan_Status          0\n",
       "Income               0\n",
       "dtype: int64"
      ]
     },
     "execution_count": 105,
     "metadata": {},
     "output_type": "execute_result"
    }
   ],
   "source": [
    "data.isnull().sum()"
   ]
  },
  {
   "cell_type": "code",
   "execution_count": 107,
   "id": "6db35055-7c13-49eb-ae48-1e3c30a670c3",
   "metadata": {},
   "outputs": [],
   "source": [
    "data[\"Dependents\"]=data[\"Dependents\"].fillna(0)"
   ]
  },
  {
   "cell_type": "code",
   "execution_count": 109,
   "id": "e7a3a014-f544-444d-81d3-d5d5f7901888",
   "metadata": {},
   "outputs": [],
   "source": [
    "data[\"Gender\"]=data[\"Gender\"].fillna(data[\"Gender\"].mode()[0])\n",
    "data[\"Married\"]=data[\"Married\"].fillna(data[\"Married\"].mode()[0])\n",
    "data[\"Self_Employed\"]=data[\"Self_Employed\"].fillna(data[\"Self_Employed\"].mode()[0])"
   ]
  },
  {
   "cell_type": "code",
   "execution_count": 111,
   "id": "46f7a042-1cee-4f94-b2b0-d6c14f50fc5a",
   "metadata": {},
   "outputs": [
    {
     "data": {
      "text/plain": [
       "Gender              0\n",
       "Married             0\n",
       "Dependents          0\n",
       "Education           0\n",
       "Self_Employed       0\n",
       "LoanAmount          0\n",
       "Loan_Amount_Term    0\n",
       "Credit_History      0\n",
       "Property_Area       0\n",
       "Loan_Status         0\n",
       "Income              0\n",
       "dtype: int64"
      ]
     },
     "execution_count": 111,
     "metadata": {},
     "output_type": "execute_result"
    }
   ],
   "source": [
    "data.isnull().sum()"
   ]
  },
  {
   "cell_type": "markdown",
   "id": "415f8f11-8fcf-40e1-ac06-fc8ba7430f90",
   "metadata": {},
   "source": [
    "**Outliers treatment**"
   ]
  },
  {
   "cell_type": "markdown",
   "id": "1f379c1a-f897-47fb-b0f3-e7278afc9dd9",
   "metadata": {},
   "source": [
    "**Encoding int all variables into int formate by replacing**\n",
    "> Gender colunm Male=1 and Female=0 \n",
    "> \n",
    "> Married column Married =1 and unmarried=0 \n",
    "> \n",
    "> Education column Graduate=1 and not graduate=0 \n",
    "> \n",
    "> Self_Employed column self_employed=1 and unemployed=0 \n",
    "> \n",
    "> Property_Area column rural=0 semiurban=1 and urban=2 \n",
    "> \n",
    "> Credit_history column good=1 and bad =0 \n",
    "> \n",
    "> Loan_Status column y=1 n=0 "
   ]
  },
  {
   "cell_type": "code",
   "execution_count": 115,
   "id": "e50f1ba1-df72-485c-a60e-699def04f3c4",
   "metadata": {},
   "outputs": [],
   "source": [
    "data[\"Gender\"]=data[\"Gender\"].map({'Male':1,'Female':0}).astype('int')\n",
    "data[\"Married\"]=data[\"Married\"].map({'Yes':1,'No':0}).astype('int')\n",
    "data[\"Education\"]=data[\"Education\"].map({'Graduate':1,'Not Graduate':0}).astype('int')\n",
    "data[\"Self_Employed\"]=data[\"Self_Employed\"].map({'Yes':1,'No':0}).astype('int')\n",
    "data[\"Property_Area\"]=data[\"Property_Area\"].map({'Rural':0,'Semiurban':1,'Urban':2}).astype('int')\n",
    "data[\"Credit_History\"]=data[\"Credit_History\"].map({'Good':1,'Bad':0}).astype('int')\n",
    "data[\"Loan_Status\"]=data[\"Loan_Status\"].map({'Y':1,'N':0}).astype('int')"
   ]
  },
  {
   "cell_type": "markdown",
   "id": "1fc3701c-c925-425b-81d9-941d9552e938",
   "metadata": {},
   "source": [
    "**Data type conversion**"
   ]
  },
  {
   "cell_type": "code",
   "execution_count": 118,
   "id": "e5488cb6-ddf0-4e6b-8e86-4f4d7dbe2a8f",
   "metadata": {},
   "outputs": [],
   "source": [
    "data['Dependents']=data[\"Dependents\"].astype('int')\n",
    "data[\"Loan_Amount_Term\"]=data[\"Loan_Amount_Term\"].astype('int')"
   ]
  },
  {
   "cell_type": "markdown",
   "id": "dcce4fc0-17fc-4fba-8674-f6b78cca9f96",
   "metadata": {},
   "source": [
    "**Transformation**"
   ]
  },
  {
   "cell_type": "code",
   "execution_count": 121,
   "id": "35ef12c1-5a14-4903-b129-245e1f1ea069",
   "metadata": {},
   "outputs": [
    {
     "data": {
      "text/plain": [
       "Income        6.797730\n",
       "LoanAmount    2.483932\n",
       "dtype: float64"
      ]
     },
     "execution_count": 121,
     "metadata": {},
     "output_type": "execute_result"
    }
   ],
   "source": [
    "data[[\"Income\",\"LoanAmount\"]].skew()"
   ]
  },
  {
   "cell_type": "code",
   "execution_count": 123,
   "id": "2e0f0a02-b84c-4fdd-a237-a6c532614791",
   "metadata": {},
   "outputs": [],
   "source": [
    "from scipy.stats import boxcox\n",
    "data['Income'],a=boxcox(data[\"Income\"])\n",
    "data[\"LoanAmount\"],c=boxcox(data[\"LoanAmount\"])"
   ]
  },
  {
   "cell_type": "code",
   "execution_count": 125,
   "id": "5e3b696a-ca56-404f-85a0-a008db0db046",
   "metadata": {},
   "outputs": [
    {
     "data": {
      "text/plain": [
       "Income       -0.063959\n",
       "LoanAmount    0.035057\n",
       "dtype: float64"
      ]
     },
     "execution_count": 125,
     "metadata": {},
     "output_type": "execute_result"
    }
   ],
   "source": [
    "data[[\"Income\",\"LoanAmount\"]].skew()"
   ]
  },
  {
   "cell_type": "code",
   "execution_count": 127,
   "id": "a62cb506-afe1-425f-bc2c-75a953364053",
   "metadata": {},
   "outputs": [],
   "source": [
    "data[\"Loan_Amount_Term\"]=data[\"Loan_Amount_Term\"]/12"
   ]
  },
  {
   "cell_type": "code",
   "execution_count": 129,
   "id": "a2720e8e-14c2-45a8-a55c-affce15ea147",
   "metadata": {},
   "outputs": [
    {
     "data": {
      "text/plain": [
       "array([30., 10., 15.,  5., 25., 40., 20.,  3.,  7.])"
      ]
     },
     "execution_count": 129,
     "metadata": {},
     "output_type": "execute_result"
    }
   ],
   "source": [
    "data[\"Loan_Amount_Term\"].unique()"
   ]
  },
  {
   "cell_type": "markdown",
   "id": "be4ebf91-9308-4b4a-871c-acd3bc4c8221",
   "metadata": {},
   "source": [
    "**X&y**"
   ]
  },
  {
   "cell_type": "code",
   "execution_count": 132,
   "id": "a332ae81-fbd6-4a70-ad34-310999b9b47e",
   "metadata": {},
   "outputs": [],
   "source": [
    "X=data.drop('Loan_Status',axis=1)\n",
    "y=data['Loan_Status']"
   ]
  },
  {
   "cell_type": "code",
   "execution_count": 134,
   "id": "756229ff-33e3-4175-b3d7-e012b9b0ce06",
   "metadata": {},
   "outputs": [
    {
     "data": {
      "text/html": [
       "<div>\n",
       "<style scoped>\n",
       "    .dataframe tbody tr th:only-of-type {\n",
       "        vertical-align: middle;\n",
       "    }\n",
       "\n",
       "    .dataframe tbody tr th {\n",
       "        vertical-align: top;\n",
       "    }\n",
       "\n",
       "    .dataframe thead th {\n",
       "        text-align: right;\n",
       "    }\n",
       "</style>\n",
       "<table border=\"1\" class=\"dataframe\">\n",
       "  <thead>\n",
       "    <tr style=\"text-align: right;\">\n",
       "      <th></th>\n",
       "      <th>Gender</th>\n",
       "      <th>Married</th>\n",
       "      <th>Dependents</th>\n",
       "      <th>Education</th>\n",
       "      <th>Self_Employed</th>\n",
       "      <th>LoanAmount</th>\n",
       "      <th>Loan_Amount_Term</th>\n",
       "      <th>Credit_History</th>\n",
       "      <th>Property_Area</th>\n",
       "      <th>Loan_Status</th>\n",
       "      <th>Income</th>\n",
       "    </tr>\n",
       "  </thead>\n",
       "  <tbody>\n",
       "    <tr>\n",
       "      <th>1</th>\n",
       "      <td>1</td>\n",
       "      <td>1</td>\n",
       "      <td>1</td>\n",
       "      <td>1</td>\n",
       "      <td>0</td>\n",
       "      <td>8.268896</td>\n",
       "      <td>30.0</td>\n",
       "      <td>1</td>\n",
       "      <td>0</td>\n",
       "      <td>0</td>\n",
       "      <td>2.176841</td>\n",
       "    </tr>\n",
       "    <tr>\n",
       "      <th>2</th>\n",
       "      <td>1</td>\n",
       "      <td>1</td>\n",
       "      <td>0</td>\n",
       "      <td>1</td>\n",
       "      <td>1</td>\n",
       "      <td>6.607929</td>\n",
       "      <td>30.0</td>\n",
       "      <td>1</td>\n",
       "      <td>2</td>\n",
       "      <td>1</td>\n",
       "      <td>2.160360</td>\n",
       "    </tr>\n",
       "    <tr>\n",
       "      <th>3</th>\n",
       "      <td>1</td>\n",
       "      <td>1</td>\n",
       "      <td>0</td>\n",
       "      <td>0</td>\n",
       "      <td>0</td>\n",
       "      <td>8.097054</td>\n",
       "      <td>30.0</td>\n",
       "      <td>1</td>\n",
       "      <td>2</td>\n",
       "      <td>1</td>\n",
       "      <td>2.172505</td>\n",
       "    </tr>\n",
       "    <tr>\n",
       "      <th>4</th>\n",
       "      <td>1</td>\n",
       "      <td>0</td>\n",
       "      <td>0</td>\n",
       "      <td>1</td>\n",
       "      <td>0</td>\n",
       "      <td>8.530707</td>\n",
       "      <td>30.0</td>\n",
       "      <td>1</td>\n",
       "      <td>2</td>\n",
       "      <td>1</td>\n",
       "      <td>2.176542</td>\n",
       "    </tr>\n",
       "    <tr>\n",
       "      <th>5</th>\n",
       "      <td>1</td>\n",
       "      <td>1</td>\n",
       "      <td>2</td>\n",
       "      <td>1</td>\n",
       "      <td>1</td>\n",
       "      <td>10.394157</td>\n",
       "      <td>30.0</td>\n",
       "      <td>1</td>\n",
       "      <td>2</td>\n",
       "      <td>1</td>\n",
       "      <td>2.184990</td>\n",
       "    </tr>\n",
       "  </tbody>\n",
       "</table>\n",
       "</div>"
      ],
      "text/plain": [
       "   Gender  Married  Dependents  Education  Self_Employed  LoanAmount  \\\n",
       "1       1        1           1          1              0    8.268896   \n",
       "2       1        1           0          1              1    6.607929   \n",
       "3       1        1           0          0              0    8.097054   \n",
       "4       1        0           0          1              0    8.530707   \n",
       "5       1        1           2          1              1   10.394157   \n",
       "\n",
       "   Loan_Amount_Term  Credit_History  Property_Area  Loan_Status    Income  \n",
       "1              30.0               1              0            0  2.176841  \n",
       "2              30.0               1              2            1  2.160360  \n",
       "3              30.0               1              2            1  2.172505  \n",
       "4              30.0               1              2            1  2.176542  \n",
       "5              30.0               1              2            1  2.184990  "
      ]
     },
     "execution_count": 134,
     "metadata": {},
     "output_type": "execute_result"
    }
   ],
   "source": [
    "data.head()"
   ]
  },
  {
   "cell_type": "markdown",
   "id": "1824ad09-c2db-4fc4-b449-b2b65e584f9f",
   "metadata": {},
   "source": [
    "**Identify the best random state number using Cross valiadion score**"
   ]
  },
  {
   "cell_type": "code",
   "execution_count": 137,
   "id": "fd76d5d1-d59d-46b6-80a3-65278d3cc769",
   "metadata": {},
   "outputs": [
    {
     "name": "stdout",
     "output_type": "stream",
     "text": [
      "Best random state number: 68\n"
     ]
    }
   ],
   "source": [
    "import pandas as pd\n",
    "from sklearn.model_selection import train_test_split, cross_val_score\n",
    "from sklearn.linear_model import LogisticRegression\n",
    "from sklearn.metrics import accuracy_score\n",
    "from sklearn.model_selection import cross_val_score\n",
    "\n",
    "Train = []\n",
    "Test = []\n",
    "CV = []\n",
    "\n",
    "for i in range(0, 101):\n",
    "    X_train, X_test, y_train, y_test = train_test_split(X, y, test_size=0.2, random_state=i)\n",
    "    \n",
    "    log_default = LogisticRegression()\n",
    "    log_default.fit(X_train, y_train)\n",
    "    \n",
    "    ypred_train = log_default.predict(X_train)\n",
    "    ypred_test = log_default.predict(X_test)\n",
    "    \n",
    "    Train.append(accuracy_score(y_train, ypred_train))\n",
    "    Test.append(accuracy_score(y_test, ypred_test))\n",
    "    CV.append(cross_val_score(log_default, X_train, y_train, cv=5, scoring='accuracy').mean())\n",
    "\n",
    "em = pd.DataFrame({'Train': Train, 'Test': Test, 'CV': CV})\n",
    "gm = em[(abs(em['Train'] - em['Test']) <= 0.05) & (abs(em['Test'] - em['CV']) <= 0.05)]\n",
    "\n",
    "# Get the best random state index\n",
    "rs = gm[gm[\"CV\"] == gm[\"CV\"].max()].index.to_list()[0]\n",
    "print(\"Best random state number:\", rs)\n"
   ]
  },
  {
   "cell_type": "markdown",
   "id": "a98381c6-26bb-4c85-8dbf-e5c4d44429b9",
   "metadata": {},
   "source": [
    "**Train-Test Split**"
   ]
  },
  {
   "cell_type": "code",
   "execution_count": 139,
   "id": "605438d6-3b35-42db-8285-746231711b10",
   "metadata": {},
   "outputs": [],
   "source": [
    "X_train, X_test, y_train, y_test = train_test_split(X, y, test_size=0.2, random_state=rs)"
   ]
  },
  {
   "cell_type": "markdown",
   "id": "6bd5568b-1992-4668-91b9-de90f4dc372d",
   "metadata": {},
   "source": [
    "# **machine learning modelling and evaluation**"
   ]
  },
  {
   "cell_type": "markdown",
   "id": "95fdf2a1-d87f-4e61-9493-6e97812b5762",
   "metadata": {},
   "source": [
    "# **1. logistic regression**\n",
    "* Statistical model using sigmoid activation to classify loan eligibility. The model is trained on the minimization of error and evaluated using cross-validation; the model predicts the probability of each class."
   ]
  },
  {
   "cell_type": "code",
   "execution_count": 142,
   "id": "c3aae0c4-bf07-4142-992e-2db862ec2d58",
   "metadata": {},
   "outputs": [
    {
     "name": "stdout",
     "output_type": "stream",
     "text": [
      "Train Accuracy: 0.7658045977011494\n",
      "Cross-validation score: 0.7586536485097637\n",
      "Test Accuracy: 0.735632183908046\n"
     ]
    }
   ],
   "source": [
    "from sklearn.linear_model import LogisticRegression\n",
    "from sklearn.metrics import accuracy_score\n",
    "from sklearn.model_selection import cross_val_score\n",
    "\n",
    "# Initialize and fit the logistic regression model\n",
    "log_model = LogisticRegression()\n",
    "log_model.fit(X_train, y_train)\n",
    "\n",
    "# Predict on both train and test data\n",
    "ypred_train = log_model.predict(X_train)\n",
    "ypred_test = log_model.predict(X_test)\n",
    "\n",
    "# Evaluate model performance\n",
    "print(\"Train Accuracy:\", accuracy_score(y_train, ypred_train))\n",
    "print(\"Cross-validation score:\", cross_val_score(log_model, X_train, y_train, cv=5, scoring='accuracy').mean())\n",
    "print(\"Test Accuracy:\", accuracy_score(y_test, ypred_test))\n"
   ]
  },
  {
   "cell_type": "markdown",
   "id": "53d7c617-f09c-4790-8b49-6a039e05085b",
   "metadata": {},
   "source": [
    "# **2.KNN**\n",
    "* Non-parametric model classifying loan eligibility by considering the similarity of neighbors. The optimum value of n_neighbors is determined by grid search. KNN predicts the target variable based on their similarities to their neighbors in feature space."
   ]
  },
  {
   "cell_type": "code",
   "execution_count": 144,
   "id": "78d96fa2-a4cb-4d4e-a0cc-55ed40e38b6d",
   "metadata": {},
   "outputs": [
    {
     "name": "stdout",
     "output_type": "stream",
     "text": [
      "Train Accuracy: 0.7816091954022989\n",
      "Cross Validation Score: 0.74\n",
      "Test Accuracy: 0.7068965517241379\n"
     ]
    }
   ],
   "source": [
    "from sklearn.neighbors import KNeighborsClassifier\n",
    "from sklearn.model_selection import GridSearchCV\n",
    "\n",
    "# Create the KNN classifier\n",
    "estimator = KNeighborsClassifier()\n",
    "\n",
    "# Define the parameter grid\n",
    "param_grid = {'n_neighbors': list(range(1, 50))}\n",
    "\n",
    "# Perform grid search with cross-validation\n",
    "grid_search = GridSearchCV(estimator, param_grid, scoring='accuracy', cv=5)\n",
    "grid_search.fit(X_train, y_train)\n",
    "\n",
    "# Get the best model from grid search\n",
    "knn_model = grid_search.best_estimator_\n",
    "\n",
    "# Predict on train and test data\n",
    "ypred_train = knn_model.predict(X_train)\n",
    "ypred_test = knn_model.predict(X_test)\n",
    "\n",
    "# Evaluate model performance\n",
    "print(\"Train Accuracy:\", accuracy_score(y_train, ypred_train))\n",
    "print(\"Cross Validation Score:\", cross_val_score(knn_model, X_train, y_train, cv=5,scoring='accuracy').mean())\n",
    "print(\"Test Accuracy:\", accuracy_score(y_test, ypred_test))"
   ]
  },
  {
   "cell_type": "markdown",
   "id": "67be078b-b6fd-4946-8751-95bc5eb064e3",
   "metadata": {},
   "source": [
    "# **3.Support Vector Machine(SVM)**\n",
    "* Applies support vector machine with multiple kernels optimized by performing grid search to separate classes for loan eligibility. It evaluates the performance of the models on cross-validation, emphasizing the maximum boundaries."
   ]
  },
  {
   "cell_type": "code",
   "execution_count": 146,
   "id": "94072be1-8c20-4558-973e-fa4d5e1b2e7e",
   "metadata": {},
   "outputs": [
    {
     "name": "stdout",
     "output_type": "stream",
     "text": [
      "Train Accuracy: 0.7442528735632183\n",
      "Cross Validation Score: 0.7413669064748202\n",
      "Test Accuracy: 0.7298850574712644\n"
     ]
    }
   ],
   "source": [
    "from sklearn.svm import SVC\n",
    "from sklearn.model_selection import GridSearchCV\n",
    "\n",
    "# Create the SVM classifier\n",
    "estimator = SVC()\n",
    "\n",
    "# Define the parameter grid\n",
    "param_grid = {'C': [0.01, 0.1, 1], 'kernel': ['linear', 'rbf', 'sigmoid', 'poly']}\n",
    "\n",
    "# Perform grid search with cross-validation\n",
    "svm_grid = GridSearchCV(estimator, param_grid, scoring='accuracy', cv=5)\n",
    "svm_grid.fit(X_train, y_train)\n",
    "\n",
    "# Get the best model from grid search\n",
    "svm_model = svm_grid.best_estimator_\n",
    "\n",
    "# Predict on train and test data\n",
    "ypred_train = svm_model.predict(X_train)\n",
    "ypred_test = svm_model.predict(X_test)\n",
    "\n",
    "# Evaluate model performance\n",
    "print(\"Train Accuracy:\", accuracy_score(y_train, ypred_train))\n",
    "print(\"Cross Validation Score:\", cross_val_score(svm_model, X_train, y_train, cv=5,scoring='accuracy').mean())\n",
    "print(\"Test Accuracy:\", accuracy_score(y_test, ypred_test))"
   ]
  },
  {
   "cell_type": "markdown",
   "id": "4c66da1d-7a37-4726-a5dd-8ef2cf480724",
   "metadata": {},
   "source": [
    "# **4.Decission Tree Classifer**\n",
    "* It works based on a single-tree model for assessing loan eligibility, tuning hyperparameters by a grid search. Trained on the most significant features to provide interpretability and straightforward decision-making based on data splits."
   ]
  },
  {
   "cell_type": "code",
   "execution_count": 148,
   "id": "68db0b4e-404e-4046-8bf9-17b9abc07592",
   "metadata": {},
   "outputs": [
    {
     "name": "stdout",
     "output_type": "stream",
     "text": [
      "Train Accuracy: 0.7931034482758621\n",
      "Cross Validation Score: 0.752846865364851\n",
      "Test Accuracy: 0.6896551724137931\n"
     ]
    }
   ],
   "source": [
    "from sklearn.tree import DecisionTreeClassifier\n",
    "from sklearn.model_selection import GridSearchCV\n",
    "\n",
    "# Create the Decision Tree classifier\n",
    "estimator = DecisionTreeClassifier(random_state=rs)\n",
    "\n",
    "# Define the parameter grid\n",
    "param_grid = {'criterion': ['gini', 'entropy'],\n",
    "              'max_depth': list(range(1, 16))}\n",
    "\n",
    "# Perform grid search with cross-validation\n",
    "dt_grid = GridSearchCV(estimator, param_grid, scoring='accuracy', cv=5)\n",
    "dt_grid.fit(X_train, y_train)\n",
    "\n",
    "# Identify the best model\n",
    "dt = dt_grid.best_estimator_\n",
    "\n",
    "# Identify the importance of each feature\n",
    "dt_fi = dt.feature_importances_\n",
    "\n",
    "# Identify the features where the feature importance is greater than 0\n",
    "index = [i for i, x in enumerate(dt_fi) if x > 0]\n",
    "\n",
    "# Create new dataset with important features\n",
    "X_train_dt = X_train.iloc[:, index]\n",
    "X_test_dt = X_test.iloc[:, index]\n",
    "\n",
    "# Train with best model and with important features\n",
    "dt.fit(X_train_dt, y_train)\n",
    "\n",
    "# Predict on train and test data\n",
    "ypred_train = dt.predict(X_train_dt)\n",
    "ypred_test = dt.predict(X_test_dt)\n",
    "\n",
    "# Evaluate the best model\n",
    "print(\"Train Accuracy:\", accuracy_score(y_train, ypred_train))\n",
    "print(\"Cross Validation Score:\", cross_val_score(dt, X_train_dt, y_train, cv=5, scoring='accuracy').mean())\n",
    "print(\"Test Accuracy:\", accuracy_score(y_test, ypred_test))"
   ]
  },
  {
   "cell_type": "code",
   "execution_count": 149,
   "id": "a0c4282d-5f40-4b43-8cfa-eaf9b969c2fe",
   "metadata": {},
   "outputs": [
    {
     "data": {
      "text/html": [
       "<style>#sk-container-id-1 {color: black;background-color: white;}#sk-container-id-1 pre{padding: 0;}#sk-container-id-1 div.sk-toggleable {background-color: white;}#sk-container-id-1 label.sk-toggleable__label {cursor: pointer;display: block;width: 100%;margin-bottom: 0;padding: 0.3em;box-sizing: border-box;text-align: center;}#sk-container-id-1 label.sk-toggleable__label-arrow:before {content: \"▸\";float: left;margin-right: 0.25em;color: #696969;}#sk-container-id-1 label.sk-toggleable__label-arrow:hover:before {color: black;}#sk-container-id-1 div.sk-estimator:hover label.sk-toggleable__label-arrow:before {color: black;}#sk-container-id-1 div.sk-toggleable__content {max-height: 0;max-width: 0;overflow: hidden;text-align: left;background-color: #f0f8ff;}#sk-container-id-1 div.sk-toggleable__content pre {margin: 0.2em;color: black;border-radius: 0.25em;background-color: #f0f8ff;}#sk-container-id-1 input.sk-toggleable__control:checked~div.sk-toggleable__content {max-height: 200px;max-width: 100%;overflow: auto;}#sk-container-id-1 input.sk-toggleable__control:checked~label.sk-toggleable__label-arrow:before {content: \"▾\";}#sk-container-id-1 div.sk-estimator input.sk-toggleable__control:checked~label.sk-toggleable__label {background-color: #d4ebff;}#sk-container-id-1 div.sk-label input.sk-toggleable__control:checked~label.sk-toggleable__label {background-color: #d4ebff;}#sk-container-id-1 input.sk-hidden--visually {border: 0;clip: rect(1px 1px 1px 1px);clip: rect(1px, 1px, 1px, 1px);height: 1px;margin: -1px;overflow: hidden;padding: 0;position: absolute;width: 1px;}#sk-container-id-1 div.sk-estimator {font-family: monospace;background-color: #f0f8ff;border: 1px dotted black;border-radius: 0.25em;box-sizing: border-box;margin-bottom: 0.5em;}#sk-container-id-1 div.sk-estimator:hover {background-color: #d4ebff;}#sk-container-id-1 div.sk-parallel-item::after {content: \"\";width: 100%;border-bottom: 1px solid gray;flex-grow: 1;}#sk-container-id-1 div.sk-label:hover label.sk-toggleable__label {background-color: #d4ebff;}#sk-container-id-1 div.sk-serial::before {content: \"\";position: absolute;border-left: 1px solid gray;box-sizing: border-box;top: 0;bottom: 0;left: 50%;z-index: 0;}#sk-container-id-1 div.sk-serial {display: flex;flex-direction: column;align-items: center;background-color: white;padding-right: 0.2em;padding-left: 0.2em;position: relative;}#sk-container-id-1 div.sk-item {position: relative;z-index: 1;}#sk-container-id-1 div.sk-parallel {display: flex;align-items: stretch;justify-content: center;background-color: white;position: relative;}#sk-container-id-1 div.sk-item::before, #sk-container-id-1 div.sk-parallel-item::before {content: \"\";position: absolute;border-left: 1px solid gray;box-sizing: border-box;top: 0;bottom: 0;left: 50%;z-index: -1;}#sk-container-id-1 div.sk-parallel-item {display: flex;flex-direction: column;z-index: 1;position: relative;background-color: white;}#sk-container-id-1 div.sk-parallel-item:first-child::after {align-self: flex-end;width: 50%;}#sk-container-id-1 div.sk-parallel-item:last-child::after {align-self: flex-start;width: 50%;}#sk-container-id-1 div.sk-parallel-item:only-child::after {width: 0;}#sk-container-id-1 div.sk-dashed-wrapped {border: 1px dashed gray;margin: 0 0.4em 0.5em 0.4em;box-sizing: border-box;padding-bottom: 0.4em;background-color: white;}#sk-container-id-1 div.sk-label label {font-family: monospace;font-weight: bold;display: inline-block;line-height: 1.2em;}#sk-container-id-1 div.sk-label-container {text-align: center;}#sk-container-id-1 div.sk-container {/* jupyter's `normalize.less` sets `[hidden] { display: none; }` but bootstrap.min.css set `[hidden] { display: none !important; }` so we also need the `!important` here to be able to override the default hidden behavior on the sphinx rendered scikit-learn.org. See: https://github.com/scikit-learn/scikit-learn/issues/21755 */display: inline-block !important;position: relative;}#sk-container-id-1 div.sk-text-repr-fallback {display: none;}</style><div id=\"sk-container-id-1\" class=\"sk-top-container\"><div class=\"sk-text-repr-fallback\"><pre>DecisionTreeClassifier(max_depth=4, random_state=68)</pre><b>In a Jupyter environment, please rerun this cell to show the HTML representation or trust the notebook. <br />On GitHub, the HTML representation is unable to render, please try loading this page with nbviewer.org.</b></div><div class=\"sk-container\" hidden><div class=\"sk-item\"><div class=\"sk-estimator sk-toggleable\"><input class=\"sk-toggleable__control sk-hidden--visually\" id=\"sk-estimator-id-1\" type=\"checkbox\" checked><label for=\"sk-estimator-id-1\" class=\"sk-toggleable__label sk-toggleable__label-arrow\">DecisionTreeClassifier</label><div class=\"sk-toggleable__content\"><pre>DecisionTreeClassifier(max_depth=4, random_state=68)</pre></div></div></div></div></div>"
      ],
      "text/plain": [
       "DecisionTreeClassifier(max_depth=4, random_state=68)"
      ]
     },
     "execution_count": 149,
     "metadata": {},
     "output_type": "execute_result"
    }
   ],
   "source": [
    "dt_grid.best_estimator_"
   ]
  },
  {
   "cell_type": "code",
   "execution_count": 150,
   "id": "505a36c2-4659-46f1-a19d-3c9bbc766ca1",
   "metadata": {
    "scrolled": true
   },
   "outputs": [
    {
     "data": {
      "text/html": [
       "<div>\n",
       "<style scoped>\n",
       "    .dataframe tbody tr th:only-of-type {\n",
       "        vertical-align: middle;\n",
       "    }\n",
       "\n",
       "    .dataframe tbody tr th {\n",
       "        vertical-align: top;\n",
       "    }\n",
       "\n",
       "    .dataframe thead th {\n",
       "        text-align: right;\n",
       "    }\n",
       "</style>\n",
       "<table border=\"1\" class=\"dataframe\">\n",
       "  <thead>\n",
       "    <tr style=\"text-align: right;\">\n",
       "      <th></th>\n",
       "      <th>Dependents</th>\n",
       "      <th>LoanAmount</th>\n",
       "      <th>Loan_Amount_Term</th>\n",
       "      <th>Credit_History</th>\n",
       "      <th>Income</th>\n",
       "    </tr>\n",
       "  </thead>\n",
       "  <tbody>\n",
       "    <tr>\n",
       "      <th>439</th>\n",
       "      <td>0</td>\n",
       "      <td>8.472052</td>\n",
       "      <td>30.0</td>\n",
       "      <td>1</td>\n",
       "      <td>2.179876</td>\n",
       "    </tr>\n",
       "    <tr>\n",
       "      <th>298</th>\n",
       "      <td>0</td>\n",
       "      <td>8.719303</td>\n",
       "      <td>40.0</td>\n",
       "      <td>1</td>\n",
       "      <td>2.180863</td>\n",
       "    </tr>\n",
       "    <tr>\n",
       "      <th>873</th>\n",
       "      <td>1</td>\n",
       "      <td>4.901221</td>\n",
       "      <td>30.0</td>\n",
       "      <td>1</td>\n",
       "      <td>2.181197</td>\n",
       "    </tr>\n",
       "    <tr>\n",
       "      <th>119</th>\n",
       "      <td>0</td>\n",
       "      <td>10.299782</td>\n",
       "      <td>30.0</td>\n",
       "      <td>1</td>\n",
       "      <td>2.186246</td>\n",
       "    </tr>\n",
       "    <tr>\n",
       "      <th>6</th>\n",
       "      <td>0</td>\n",
       "      <td>7.493533</td>\n",
       "      <td>30.0</td>\n",
       "      <td>1</td>\n",
       "      <td>2.166767</td>\n",
       "    </tr>\n",
       "    <tr>\n",
       "      <th>...</th>\n",
       "      <td>...</td>\n",
       "      <td>...</td>\n",
       "      <td>...</td>\n",
       "      <td>...</td>\n",
       "      <td>...</td>\n",
       "    </tr>\n",
       "    <tr>\n",
       "      <th>276</th>\n",
       "      <td>0</td>\n",
       "      <td>9.622209</td>\n",
       "      <td>30.0</td>\n",
       "      <td>1</td>\n",
       "      <td>2.180193</td>\n",
       "    </tr>\n",
       "    <tr>\n",
       "      <th>240</th>\n",
       "      <td>2</td>\n",
       "      <td>8.097054</td>\n",
       "      <td>30.0</td>\n",
       "      <td>1</td>\n",
       "      <td>2.186842</td>\n",
       "    </tr>\n",
       "    <tr>\n",
       "      <th>494</th>\n",
       "      <td>0</td>\n",
       "      <td>8.074937</td>\n",
       "      <td>30.0</td>\n",
       "      <td>0</td>\n",
       "      <td>2.175702</td>\n",
       "    </tr>\n",
       "    <tr>\n",
       "      <th>580</th>\n",
       "      <td>2</td>\n",
       "      <td>9.593547</td>\n",
       "      <td>30.0</td>\n",
       "      <td>1</td>\n",
       "      <td>2.178224</td>\n",
       "    </tr>\n",
       "    <tr>\n",
       "      <th>956</th>\n",
       "      <td>0</td>\n",
       "      <td>9.476621</td>\n",
       "      <td>30.0</td>\n",
       "      <td>1</td>\n",
       "      <td>2.181846</td>\n",
       "    </tr>\n",
       "  </tbody>\n",
       "</table>\n",
       "<p>696 rows × 5 columns</p>\n",
       "</div>"
      ],
      "text/plain": [
       "     Dependents  LoanAmount  Loan_Amount_Term  Credit_History    Income\n",
       "439           0    8.472052              30.0               1  2.179876\n",
       "298           0    8.719303              40.0               1  2.180863\n",
       "873           1    4.901221              30.0               1  2.181197\n",
       "119           0   10.299782              30.0               1  2.186246\n",
       "6             0    7.493533              30.0               1  2.166767\n",
       "..          ...         ...               ...             ...       ...\n",
       "276           0    9.622209              30.0               1  2.180193\n",
       "240           2    8.097054              30.0               1  2.186842\n",
       "494           0    8.074937              30.0               0  2.175702\n",
       "580           2    9.593547              30.0               1  2.178224\n",
       "956           0    9.476621              30.0               1  2.181846\n",
       "\n",
       "[696 rows x 5 columns]"
      ]
     },
     "execution_count": 150,
     "metadata": {},
     "output_type": "execute_result"
    }
   ],
   "source": [
    "X_train_dt"
   ]
  },
  {
   "cell_type": "markdown",
   "id": "2e6eb48f-4d95-49ce-8a01-1481c36ee5b9",
   "metadata": {},
   "source": [
    "# **5.Random Forest Classifier**\n",
    "* The ensemble of decision trees is applicable to capturing feature relevance for robust loan eligibility predictions. By considering only key features, model retraining in impactful features and their test accuracy is assured."
   ]
  },
  {
   "cell_type": "code",
   "execution_count": 152,
   "id": "efb73264-9a6b-4d80-90b1-f6e69fc548a8",
   "metadata": {},
   "outputs": [
    {
     "name": "stdout",
     "output_type": "stream",
     "text": [
      "Train Accuracy: 0.9971264367816092\n",
      "Cross Validation Score: 0.7543268242548817\n",
      "Test Accuracy: 0.6839080459770115\n"
     ]
    }
   ],
   "source": [
    "from sklearn.ensemble import RandomForestClassifier\n",
    "from sklearn.model_selection import GridSearchCV\n",
    "\n",
    "# Create the Random Forest classifier\n",
    "estimator = RandomForestClassifier(random_state=rs)\n",
    "\n",
    "# Define the parameter grid\n",
    "param_grid = {'n_estimators': list(range(1, 51))}\n",
    "\n",
    "# Perform grid search with cross-validation\n",
    "rf_grid = GridSearchCV(estimator, param_grid, scoring='accuracy', cv=5)\n",
    "rf_grid.fit(X_train, y_train)\n",
    "\n",
    "# Get the best model from grid search\n",
    "rf = rf_grid.best_estimator_\n",
    "\n",
    "# Identify the importance of each feature\n",
    "rf_fi = rf.feature_importances_\n",
    "\n",
    "# Identify the features where the feature importance is greater than 0\n",
    "index = [i for i, x in enumerate(rf_fi) if x > 0]\n",
    "\n",
    "# Create new datasets with important features\n",
    "X_train_rf = X_train.iloc[:, index]\n",
    "X_test_rf = X_test.iloc[:, index]\n",
    "\n",
    "# Train with best model and with important features\n",
    "rf.fit(X_train_rf, y_train)\n",
    "\n",
    "# Predict on train and test data\n",
    "ypred_train = rf.predict(X_train_rf)\n",
    "ypred_test = rf.predict(X_test_rf)\n",
    "\n",
    "# Evaluate the best model\n",
    "print(\"Train Accuracy:\", accuracy_score(y_train, ypred_train))\n",
    "print(\"Cross Validation Score:\", cross_val_score(rf, X_train_rf, y_train, cv=5, scoring='accuracy').mean())\n",
    "print(\"Test Accuracy:\", accuracy_score(y_test, ypred_test))"
   ]
  },
  {
   "cell_type": "markdown",
   "id": "037ed1e5-7843-45cb-a518-9646aaa47f26",
   "metadata": {},
   "source": [
    "# **6.AdaBoost Classifier**\n",
    "* A boosting methodology is one in which weak learners are trained incrementally, with a focus on misclassified samples. Feature importance will, in turn, inform final training and testing to assure efficient and reliable loan predictions."
   ]
  },
  {
   "cell_type": "code",
   "execution_count": 154,
   "id": "37a916c5-c35b-4d08-828c-1ca1ad7a4c7b",
   "metadata": {},
   "outputs": [
    {
     "name": "stdout",
     "output_type": "stream",
     "text": [
      "Train Accuracy: 0.7686781609195402\n",
      "Cross Validation Score: 0.7586022610483042\n",
      "Test Accuracy: 0.7241379310344828\n"
     ]
    }
   ],
   "source": [
    "from sklearn.ensemble import AdaBoostClassifier\n",
    "from sklearn.model_selection import GridSearchCV\n",
    "\n",
    "# Create the AdaBoost classifier\n",
    "estimator = AdaBoostClassifier(random_state=rs)\n",
    "\n",
    "# Define the parameter grid\n",
    "param_grid = {'n_estimators': list(range(1, 51))}\n",
    "\n",
    "# Perform grid search with cross-validation\n",
    "ab_grid = GridSearchCV(estimator, param_grid, scoring='accuracy', cv=5)\n",
    "ab_grid.fit(X_train, y_train)\n",
    "\n",
    "# Get the best model from grid search\n",
    "ab = ab_grid.best_estimator_\n",
    "\n",
    "# Identify the importance of each feature\n",
    "ab_fi = ab.feature_importances_\n",
    "\n",
    "# Identify the features where the feature importance is greater than 0\n",
    "index = [i for i, x in enumerate(ab_fi) if x > 0]\n",
    "\n",
    "# Create new datasets with important features\n",
    "X_train_ab = X_train.iloc[:, index]\n",
    "X_test_ab = X_test.iloc[:, index]\n",
    "\n",
    "# Train with best model and with important features\n",
    "ab.fit(X_train_ab, y_train)\n",
    "\n",
    "# Predict on train and test data\n",
    "ypred_train = ab.predict(X_train_ab)\n",
    "ypred_test = ab.predict(X_test_ab)\n",
    "\n",
    "# Evaluate the best model\n",
    "print(\"Train Accuracy:\", accuracy_score(y_train, ypred_train))\n",
    "print(\"Cross Validation Score:\", cross_val_score(ab, X_train_ab, y_train, cv=5, scoring='accuracy').mean())\n",
    "print(\"Test Accuracy:\", accuracy_score(y_test, ypred_test))"
   ]
  },
  {
   "cell_type": "markdown",
   "id": "3b60ea2d-d93e-4b48-b9a2-a8609dbffc8b",
   "metadata": {},
   "source": [
    "# **7. Gradient Boost Classifier**\n",
    "* Applies gradient boosting with fine-tuned hyperparameters that improve the accuracy in prediction of loan eligibility. Essential features are isolated for optimized training; accuracy is assessed through cross-validation and on unseen test data."
   ]
  },
  {
   "cell_type": "code",
   "execution_count": 156,
   "id": "9aacbc96-007a-4b18-99de-31a232dba2c0",
   "metadata": {},
   "outputs": [
    {
     "name": "stdout",
     "output_type": "stream",
     "text": [
      "Train Accuracy: 0.7844827586206896\n",
      "Cross Validation Score: 0.7542959917780061\n",
      "Test Accuracy: 0.7011494252873564\n"
     ]
    }
   ],
   "source": [
    "from sklearn.ensemble import GradientBoostingClassifier\n",
    "from sklearn.model_selection import GridSearchCV\n",
    "\n",
    "# Create the Gradient Boosting classifier\n",
    "estimator = GradientBoostingClassifier(random_state=rs)\n",
    "\n",
    "# Define the parameter grid\n",
    "param_grid = {'n_estimators': list(range(1, 10)), 'learning_rate': [0.1, 0.2, 0.3, 0.4, 0.5]}\n",
    "\n",
    "# Perform grid search with cross-validation\n",
    "gb_grid = GridSearchCV(estimator, param_grid, scoring='accuracy', cv=5)\n",
    "gb_grid.fit(X_train, y_train)\n",
    "\n",
    "# Get the best model from grid search\n",
    "gb = gb_grid.best_estimator_\n",
    "\n",
    "# Identify the importance of each feature\n",
    "gb_fi = gb.feature_importances_\n",
    "\n",
    "# Identify the features where the feature importance is greater than 0\n",
    "index = [i for i, x in enumerate(gb_fi) if x > 0]\n",
    "\n",
    "# Create new datasets with important features\n",
    "X_train_gb = X_train.iloc[:, index]\n",
    "X_test_gb = X_test.iloc[:, index]\n",
    "\n",
    "# Train with best model and with important features\n",
    "gb.fit(X_train_gb, y_train)\n",
    "\n",
    "# Predict on train and test data\n",
    "ypred_train = gb.predict(X_train_gb)\n",
    "ypred_test = gb.predict(X_test_gb)\n",
    "\n",
    "# Evaluate the best model\n",
    "print(\"Train Accuracy:\", accuracy_score(y_train, ypred_train))\n",
    "print(\"Cross Validation Score:\", cross_val_score(gb, X_train_gb, y_train, cv=5, scoring='accuracy').mean())\n",
    "print(\"Test Accuracy:\", accuracy_score(y_test, ypred_test))"
   ]
  },
  {
   "cell_type": "markdown",
   "id": "5519883f-1511-4956-96c1-7ad01a032756",
   "metadata": {},
   "source": [
    "# **8.XGBoost Classifier**\n",
    "* Uses gradient-boosted trees, optimized by performing grid search for better accuracy in prediction regarding loan eligibility, selects the important features, and trains again with refined features and tests the performance of train, validation, and test sets."
   ]
  },
  {
   "cell_type": "code",
   "execution_count": 158,
   "id": "ab8c32ef-4896-4c33-b579-c7e2a27c29c4",
   "metadata": {},
   "outputs": [
    {
     "name": "stdout",
     "output_type": "stream",
     "text": [
      "Train Accuracy: 0.8333333333333334\n",
      "Cross Validation Score: 0.7628879753340185\n",
      "Test Accuracy: 0.7126436781609196\n"
     ]
    }
   ],
   "source": [
    "from xgboost import XGBClassifier\n",
    "from sklearn.model_selection import GridSearchCV\n",
    "\n",
    "# Create the XGBoost classifier\n",
    "estimator = XGBClassifier(random_state=rs)\n",
    "\n",
    "# Define the parameter grid\n",
    "param_grid = {'n_estimators': [10, 20, 40, 100], 'max_depth': [3, 4, 5], 'gamma': [0, 0.1, 0.2, 0.3, 0.4, 0.5]}\n",
    "\n",
    "# Perform grid search with cross-validation\n",
    "xgb_grid = GridSearchCV(estimator, param_grid, scoring='accuracy', cv=5)\n",
    "xgb_grid.fit(X_train, y_train)\n",
    "\n",
    "# Get the best model from grid search\n",
    "xgb = xgb_grid.best_estimator_\n",
    "\n",
    "# Identify the importance of each feature\n",
    "xgb_fi = xgb.feature_importances_\n",
    "\n",
    "# Identify the features where the feature importance is greater than 0\n",
    "index = [i for i, x in enumerate(xgb_fi) if x > 0]\n",
    "\n",
    "# Create new datasets with important features\n",
    "X_train_xgb = X_train.iloc[:, index]\n",
    "X_test_xgb = X_test.iloc[:, index]\n",
    "\n",
    "# Train with best model and with important features\n",
    "xgb.fit(X_train_xgb, y_train)\n",
    "\n",
    "# Predict on train and test data\n",
    "ypred_train = xgb.predict(X_train_xgb)\n",
    "ypred_test = xgb.predict(X_test_xgb)\n",
    "\n",
    "# Evaluate the best model\n",
    "print(\"Train Accuracy:\", accuracy_score(y_train, ypred_train))\n",
    "print(\"Cross Validation Score:\", cross_val_score(xgb, X_train_xgb, y_train, cv=5, scoring='accuracy').mean())\n",
    "print(\"Test Accuracy:\", accuracy_score(y_test, ypred_test))\n"
   ]
  },
  {
   "cell_type": "markdown",
   "id": "e0aa12e3-aec8-4f53-a5d8-c4c9f02f2c75",
   "metadata": {},
   "source": [
    "# Confusion Matrix\n",
    "* The confusion matrix depicts the performance of each model graphically by showing their true positives, true negatives, false positives, and false negatives. Each plot compares the predicted labels with actual labels of test data in order to analyze the accuracy, precision, and shortcomings of models. Darker cells on the diagonal suggest better predictive power; off-diagonal cells serve to highlight misclassifications."
   ]
  },
  {
   "cell_type": "code",
   "execution_count": 160,
   "id": "f5e4e2f3-03a4-4666-9048-3fd98edc6820",
   "metadata": {},
   "outputs": [
    {
     "name": "stdout",
     "output_type": "stream",
     "text": [
      "Confusion Matrix for XGBoost\n"
     ]
    },
    {
     "data": {
      "image/png": "[encoded data removed]",
      "text/plain": [
       "<Figure size 600x400 with 1 Axes>"
      ]
     },
     "metadata": {},
     "output_type": "display_data"
    },
    {
     "name": "stdout",
     "output_type": "stream",
     "text": [
      "Confusion Matrix for GradientBoosting\n"
     ]
    },
    {
     "data": {
      "image/png": "[encoded data removed]",
      "text/plain": [
       "<Figure size 600x400 with 1 Axes>"
      ]
     },
     "metadata": {},
     "output_type": "display_data"
    },
    {
     "name": "stdout",
     "output_type": "stream",
     "text": [
      "Confusion Matrix for AdaBoost\n"
     ]
    },
    {
     "data": {
      "image/png": "[encoded data removed]",
      "text/plain": [
       "<Figure size 600x400 with 1 Axes>"
      ]
     },
     "metadata": {},
     "output_type": "display_data"
    },
    {
     "name": "stdout",
     "output_type": "stream",
     "text": [
      "Confusion Matrix for RandomForest\n"
     ]
    },
    {
     "data": {
      "image/png": "[encoded data removed]",
      "text/plain": [
       "<Figure size 600x400 with 1 Axes>"
      ]
     },
     "metadata": {},
     "output_type": "display_data"
    },
    {
     "name": "stdout",
     "output_type": "stream",
     "text": [
      "Confusion Matrix for DecisionTree\n"
     ]
    },
    {
     "data": {
      "image/png": "[encoded data removed]",
      "text/plain": [
       "<Figure size 600x400 with 1 Axes>"
      ]
     },
     "metadata": {},
     "output_type": "display_data"
    },
    {
     "name": "stdout",
     "output_type": "stream",
     "text": [
      "Confusion Matrix for SVM\n"
     ]
    },
    {
     "data": {
      "image/png": "[encoded data removed]",
      "text/plain": [
       "<Figure size 600x400 with 1 Axes>"
      ]
     },
     "metadata": {},
     "output_type": "display_data"
    },
    {
     "name": "stdout",
     "output_type": "stream",
     "text": [
      "Confusion Matrix for KNN\n"
     ]
    },
    {
     "data": {
      "image/png": "[encoded data removed]",
      "text/plain": [
       "<Figure size 600x400 with 1 Axes>"
      ]
     },
     "metadata": {},
     "output_type": "display_data"
    },
    {
     "name": "stdout",
     "output_type": "stream",
     "text": [
      "Confusion Matrix for LogisticRegression\n"
     ]
    },
    {
     "data": {
      "image/png": "[encoded data removed]",
      "text/plain": [
       "<Figure size 600x400 with 1 Axes>"
      ]
     },
     "metadata": {},
     "output_type": "display_data"
    }
   ],
   "source": [
    "from sklearn.metrics import confusion_matrix\n",
    "import matplotlib.pyplot as plt\n",
    "import seaborn as sns\n",
    "\n",
    "# Function to plot confusion matrix\n",
    "def plot_confusion_matrix(y_true, y_pred, model_name):\n",
    "    cm = confusion_matrix(y_true, y_pred)\n",
    "    plt.figure(figsize=(6, 4))\n",
    "    sns.heatmap(cm, annot=True, fmt=\"d\", cmap=\"Blues\", cbar=False)\n",
    "    plt.title(f\"Confusion Matrix for {model_name}\")\n",
    "    plt.xlabel(\"Predicted Label\")\n",
    "    plt.ylabel(\"True Label\")\n",
    "    plt.show()\n",
    "\n",
    "# Evaluate and plot confusion matrix for each model\n",
    "model_predictions = {\n",
    "    'XGBoost': xgb.predict(X_test_xgb),\n",
    "    'GradientBoosting': gb.predict(X_test_gb),\n",
    "    'AdaBoost': ab.predict(X_test_ab),\n",
    "    'RandomForest': rf.predict(X_test_rf),\n",
    "    'DecisionTree': dt.predict(X_test_dt),\n",
    "    'SVM': svm_model.predict(X_test),\n",
    "    'KNN': knn_model.predict(X_test),\n",
    "    'LogisticRegression': log_model.predict(X_test)\n",
    "}\n",
    "\n",
    "# Plot confusion matrices for each model\n",
    "for model_name, y_pred in model_predictions.items():\n",
    "    print(f\"Confusion Matrix for {model_name}\")\n",
    "    plot_confusion_matrix(y_test, y_pred, model_name)\n"
   ]
  },
  {
   "cell_type": "markdown",
   "id": "42d3a25a-8f9d-4b4b-ae1b-66e34128b494",
   "metadata": {},
   "source": []
  },
  {
   "cell_type": "code",
   "execution_count": 162,
   "id": "58fcab5c-bbce-4667-abdf-26b71c270e58",
   "metadata": {},
   "outputs": [
    {
     "name": "stdout",
     "output_type": "stream",
     "text": [
      "XGBClassifier - Train Accuracy: 0.9986, Test Accuracy: 0.7011\n",
      "GradientBoostingClassifier - Train Accuracy: 0.8578, Test Accuracy: 0.7241\n",
      "AdaBoostClassifier - Train Accuracy: 0.7859, Test Accuracy: 0.7414\n",
      "RandomForestClassifier - Train Accuracy: 1.0000, Test Accuracy: 0.7471\n",
      "DecisionTreeClassifier - Train Accuracy: 1.0000, Test Accuracy: 0.6724\n",
      "SVC - Train Accuracy: 0.7198, Test Accuracy: 0.7414\n",
      "KNeighborsClassifier - Train Accuracy: 0.7730, Test Accuracy: 0.7414\n",
      "LogisticRegression - Train Accuracy: 0.7529, Test Accuracy: 0.7644\n"
     ]
    },
    {
     "name": "stdin",
     "output_type": "stream",
     "text": [
      "Gender (0 = Female, 1 = Male):  1\n",
      "Married (0 = No, 1 = Yes):  1\n",
      "Dependents (0, 1, 2, 3+):  3\n",
      "Education (0 = Not Graduate, 1 = Graduate):  1\n",
      "Self Employed (0 = No, 1 = Yes):  1\n",
      "Loan Amount:  2\n",
      "Loan Amount Term:  180\n",
      "Credit History (0 = No, 1 = Yes):  0\n",
      "Property Area (0 = Rural, 1 = Semiurban, 2 = Urban):  2\n",
      "Income:  120\n"
     ]
    },
    {
     "name": "stdout",
     "output_type": "stream",
     "text": [
      "\n",
      "Loan Eligibility Predictions:\n",
      "XGBClassifier: Eligible (Test Accuracy: 0.7011)\n",
      "GradientBoostingClassifier: Not Eligible (Test Accuracy: 0.7241)\n",
      "AdaBoostClassifier: Eligible (Test Accuracy: 0.7414)\n",
      "RandomForestClassifier: Not Eligible (Test Accuracy: 0.7471)\n",
      "DecisionTreeClassifier: Eligible (Test Accuracy: 0.6724)\n",
      "SVC: Eligible (Test Accuracy: 0.7414)\n",
      "KNeighborsClassifier: Not Eligible (Test Accuracy: 0.7414)\n",
      "LogisticRegression: Eligible (Test Accuracy: 0.7644)\n"
     ]
    }
   ],
   "source": [
    "import pandas as pd\n",
    "from sklearn.model_selection import train_test_split\n",
    "from sklearn.ensemble import GradientBoostingClassifier, AdaBoostClassifier, RandomForestClassifier\n",
    "from sklearn.tree import DecisionTreeClassifier\n",
    "from sklearn.svm import SVC\n",
    "from sklearn.neighbors import KNeighborsClassifier\n",
    "from xgboost import XGBClassifier\n",
    "from sklearn.linear_model import LogisticRegression\n",
    "from sklearn.metrics import accuracy_score\n",
    "\n",
    "\n",
    "X = data.drop('Loan_Status', axis=1)\n",
    "y = data['Loan_Status']\n",
    "\n",
    "# Split the data\n",
    "X_train, X_test, y_train, y_test = train_test_split(X, y, test_size=0.2, random_state=42)\n",
    "\n",
    "# Dictionary to store models and results\n",
    "models = {\n",
    "    \"XGBClassifier\": XGBClassifier(),\n",
    "    \"GradientBoostingClassifier\": GradientBoostingClassifier(),\n",
    "    \"AdaBoostClassifier\": AdaBoostClassifier(),\n",
    "    \"RandomForestClassifier\": RandomForestClassifier(),\n",
    "    \"DecisionTreeClassifier\": DecisionTreeClassifier(),\n",
    "    \"SVC\": SVC(),\n",
    "    \"KNeighborsClassifier\": KNeighborsClassifier(),\n",
    "    \"LogisticRegression\": LogisticRegression()\n",
    "}\n",
    "\n",
    "results = {}\n",
    "\n",
    "# Train and evaluate each model\n",
    "for name, model in models.items():\n",
    "    model.fit(X_train, y_train)\n",
    "    y_pred_train = model.predict(X_train)\n",
    "    y_pred_test = model.predict(X_test)\n",
    "    train_accuracy = accuracy_score(y_train, y_pred_train)\n",
    "    test_accuracy = accuracy_score(y_test, y_pred_test)\n",
    "    results[name] = {\n",
    "        \"model\": model,\n",
    "        \"train_accuracy\": train_accuracy,\n",
    "        \"test_accuracy\": test_accuracy\n",
    "    }\n",
    "    print(f\"{name} - Train Accuracy: {train_accuracy:.4f}, Test Accuracy: {test_accuracy:.4f}\")\n",
    "\n",
    "# Function to predict loan eligibility for new input\n",
    "def predict_loan_eligibility(new_data):\n",
    "    predictions = {}\n",
    "    for name, info in results.items():\n",
    "        model = info[\"model\"]\n",
    "        prediction = model.predict(new_data)[0]  # Assume binary output where 1 is eligible and 0 is not\n",
    "        predictions[name] = \"Eligible\" if prediction == 1 else \"Not Eligible\"\n",
    "    return predictions\n",
    "\n",
    "# Get user input for new data\n",
    "new_data = pd.DataFrame([{\n",
    "    \"Gender\": int(input(\"Gender (0 = Female, 1 = Male): \")),\n",
    "    \"Married\": int(input(\"Married (0 = No, 1 = Yes): \")),\n",
    "    \"Dependents\": int(input(\"Dependents (0, 1, 2, 3+): \")),\n",
    "    \"Education\": int(input(\"Education (0 = Not Graduate, 1 = Graduate): \")),\n",
    "    \"Self_Employed\": int(input(\"Self Employed (0 = No, 1 = Yes): \")),\n",
    "    \"LoanAmount\": float(input(\"Loan Amount: \")),\n",
    "    \"Loan_Amount_Term\": float(input(\"Loan Amount Term: \")),\n",
    "    \"Credit_History\": int(input(\"Credit History (0 = No, 1 = Yes): \")),\n",
    "    \"Property_Area\": int(input(\"Property Area (0 = Rural, 1 = Semiurban, 2 = Urban): \")),\n",
    "    \"Income\": float(input(\"Income: \"))\n",
    "}])\n",
    "\n",
    "# Predict eligibility\n",
    "predictions = predict_loan_eligibility(new_data)\n",
    "\n",
    "# Display predictions with model accuracy\n",
    "print(\"\\nLoan Eligibility Predictions:\")\n",
    "for name, result in predictions.items():\n",
    "    print(f\"{name}: {result} (Test Accuracy: {results[name]['test_accuracy']:.4f})\")\n"
   ]
  },
  {
   "cell_type": "code",
   "execution_count": 177,
   "id": "cc437d97-0667-4f74-b00a-2e6f85c78d0f",
   "metadata": {},
   "outputs": [
    {
     "name": "stdout",
     "output_type": "stream",
     "text": [
      "XGBClassifier - Train Accuracy: 0.9986, Test Accuracy: 0.7011\n",
      "GradientBoostingClassifier - Train Accuracy: 0.8578, Test Accuracy: 0.7299\n",
      "AdaBoostClassifier - Train Accuracy: 0.7859, Test Accuracy: 0.7414\n",
      "RandomForestClassifier - Train Accuracy: 1.0000, Test Accuracy: 0.7644\n",
      "DecisionTreeClassifier - Train Accuracy: 1.0000, Test Accuracy: 0.6494\n",
      "SVC - Train Accuracy: 0.7198, Test Accuracy: 0.7414\n",
      "KNeighborsClassifier - Train Accuracy: 0.7730, Test Accuracy: 0.7414\n",
      "LogisticRegression - Train Accuracy: 0.7529, Test Accuracy: 0.7644\n"
     ]
    },
    {
     "name": "stdin",
     "output_type": "stream",
     "text": [
      "Gender (0 = Female, 1 = Male):  1\n",
      "Married (0 = No, 1 = Yes):  0\n",
      "Dependents (0, 1, 2, 3+):  1\n",
      "Education (0 = Not Graduate, 1 = Graduate):  0\n",
      "Self Employed (0 = No, 1 = Yes):  0\n",
      "Loan Amount:  250\n",
      "Loan Amount Term:  180\n",
      "Credit History (0 = No, 1 = Yes):  1\n",
      "Property Area (0 = Rural, 1 = Semiurban, 2 = Urban):  2\n",
      "Income:  150\n"
     ]
    },
    {
     "name": "stdout",
     "output_type": "stream",
     "text": [
      "\n",
      "Loan Eligibility Predictions by Model:\n",
      "XGBClassifier: Not Eligible (Test Accuracy: 0.7011)\n",
      "GradientBoostingClassifier: Not Eligible (Test Accuracy: 0.7299)\n",
      "AdaBoostClassifier: Eligible (Test Accuracy: 0.7414)\n",
      "RandomForestClassifier: Not Eligible (Test Accuracy: 0.7644)\n",
      "DecisionTreeClassifier: Eligible (Test Accuracy: 0.6494)\n",
      "SVC: Eligible (Test Accuracy: 0.7414)\n",
      "KNeighborsClassifier: Not Eligible (Test Accuracy: 0.7414)\n",
      "LogisticRegression: Not Eligible (Test Accuracy: 0.7644)\n",
      "\n",
      "The person with this profile is : Not Eligible to get  loan in our bank\n"
     ]
    }
   ],
   "source": [
    "import pandas as pd\n",
    "from sklearn.model_selection import train_test_split\n",
    "from sklearn.ensemble import GradientBoostingClassifier, AdaBoostClassifier, RandomForestClassifier\n",
    "from sklearn.tree import DecisionTreeClassifier\n",
    "from sklearn.svm import SVC\n",
    "from sklearn.neighbors import KNeighborsClassifier\n",
    "from xgboost import XGBClassifier\n",
    "from sklearn.linear_model import LogisticRegression\n",
    "from sklearn.metrics import accuracy_score\n",
    "\n",
    "\n",
    "X = data.drop('Loan_Status', axis=1)\n",
    "y = data['Loan_Status']\n",
    "\n",
    "# Split the data\n",
    "X_train, X_test, y_train, y_test = train_test_split(X, y, test_size=0.2, random_state=42)\n",
    "\n",
    "# Dictionary to store models and results\n",
    "models = {\n",
    "    \"XGBClassifier\": XGBClassifier(),\n",
    "    \"GradientBoostingClassifier\": GradientBoostingClassifier(),\n",
    "    \"AdaBoostClassifier\": AdaBoostClassifier(),\n",
    "    \"RandomForestClassifier\": RandomForestClassifier(),\n",
    "    \"DecisionTreeClassifier\": DecisionTreeClassifier(),\n",
    "    \"SVC\": SVC(),\n",
    "    \"KNeighborsClassifier\": KNeighborsClassifier(),\n",
    "    \"LogisticRegression\": LogisticRegression()\n",
    "}\n",
    "\n",
    "results = {}\n",
    "\n",
    "# Train and evaluate each model\n",
    "for name, model in models.items():\n",
    "    model.fit(X_train, y_train)\n",
    "    y_pred_train = model.predict(X_train)\n",
    "    y_pred_test = model.predict(X_test)\n",
    "    train_accuracy = accuracy_score(y_train, y_pred_train)\n",
    "    test_accuracy = accuracy_score(y_test, y_pred_test)\n",
    "    results[name] = {\n",
    "        \"model\": model,\n",
    "        \"train_accuracy\": train_accuracy,\n",
    "        \"test_accuracy\": test_accuracy\n",
    "    }\n",
    "    print(f\"{name} - Train Accuracy: {train_accuracy:.4f}, Test Accuracy: {test_accuracy:.4f}\")\n",
    "\n",
    "# Function to predict loan eligibility for new input\n",
    "def predict_loan_eligibility(new_data):\n",
    "    predictions = {}\n",
    "    eligible_count = 0\n",
    "\n",
    "    for name, info in results.items():\n",
    "        model = info[\"model\"]\n",
    "        prediction = model.predict(new_data)[0]  # Assume binary output where 1 is eligible and 0 is not\n",
    "        is_eligible = prediction == 1\n",
    "        eligible_count += is_eligible\n",
    "        predictions[name] = \"Eligible\" if is_eligible else \"Not Eligible\"\n",
    "\n",
    "    # Determine the final decision based on majority voting\n",
    "    final_decision = \"Eligible\" if eligible_count > len(results) / 2 else \"Not Eligible\"\n",
    "    return predictions, final_decision\n",
    "\n",
    "# Get user input for new data\n",
    "new_data = pd.DataFrame([{\n",
    "    \"Gender\": int(input(\"Gender (0 = Female, 1 = Male): \")),\n",
    "    \"Married\": int(input(\"Married (0 = No, 1 = Yes): \")),\n",
    "    \"Dependents\": int(input(\"Dependents (0, 1, 2, 3+): \")),\n",
    "    \"Education\": int(input(\"Education (0 = Not Graduate, 1 = Graduate): \")),\n",
    "    \"Self_Employed\": int(input(\"Self Employed (0 = No, 1 = Yes): \")),\n",
    "    \"LoanAmount\": float(input(\"Loan Amount: \")),\n",
    "    \"Loan_Amount_Term\": float(input(\"Loan Amount Term: \")),\n",
    "    \"Credit_History\": int(input(\"Credit History (0 = No, 1 = Yes): \")),\n",
    "    \"Property_Area\": int(input(\"Property Area (0 = Rural, 1 = Semiurban, 2 = Urban): \")),\n",
    "    \"Income\": float(input(\"Income: \"))\n",
    "}])\n",
    "\n",
    "# Predict eligibility\n",
    "predictions, final_decision = predict_loan_eligibility(new_data)\n",
    "\n",
    "# Display predictions with model accuracy\n",
    "print(\"\\nLoan Eligibility Predictions by Model:\")\n",
    "for name, result in predictions.items():\n",
    "    print(f\"{name}: {result} (Test Accuracy: {results[name]['test_accuracy']:.4f})\")\n",
    "\n",
    "# Display final decision\n",
    "print(f\"\\nThe person with this profile is : {final_decision} to get  loan in our bank\")\n"
   ]
  },
  {
   "cell_type": "code",
   "execution_count": null,
   "id": "5308b4fa-73cb-4f04-8187-0cc5759b2a80",
   "metadata": {},
   "outputs": [],
   "source": []
  }
 ],
 "metadata": {
  "kernelspec": {
   "display_name": "Python 3 (ipykernel)",
   "language": "python",
   "name": "python3"
  },
  "language_info": {
   "codemirror_mode": {
    "name": "ipython",
    "version": 3
   },
   "file_extension": ".py",
   "mimetype": "text/x-python",
   "name": "python",
   "nbconvert_exporter": "python",
   "pygments_lexer": "ipython3",
   "version": "3.11.7"
  },
  "widgets": {
   "application/vnd.jupyter.widget-state+json": {
    "state": {},
    "version_major": 2,
    "version_minor": 0
   }
  }
 },
 "nbformat": 4,
 "nbformat_minor": 5
}
